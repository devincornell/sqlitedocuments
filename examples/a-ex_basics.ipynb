{
 "cells": [
  {
   "cell_type": "markdown",
   "metadata": {},
   "source": [
    "# Introduction\n",
    "\n",
    "Here I will give an overview of the basic functionality of `doctable`.\n",
    "\n",
    "I will cover the following topics:\n",
    "\n",
    "+ Connecting to the database using `ConnectCore`.\n",
    "+ Defining a database schema using the `table_schema` decorator.\n",
    "+ Creating the table using the `begin_ddl()` context manager.\n",
    "+ Inserting values into the database using the `ConnectQuery` and `ConnectTable` interfaces."
   ]
  },
  {
   "cell_type": "code",
   "execution_count": 1,
   "metadata": {},
   "outputs": [],
   "source": [
    "import sys\n",
    "sys.path.append('../')\n",
    "import doctable\n",
    "import pprint"
   ]
  },
  {
   "cell_type": "markdown",
   "metadata": {},
   "source": [
    "The `ConnectCore` objects acts as the primary starting point for any actions performed on the database. We create a new connection to the datbase using the `.open()` factory method constructor."
   ]
  },
  {
   "cell_type": "code",
   "execution_count": 2,
   "metadata": {},
   "outputs": [
    {
     "data": {
      "text/plain": [
       "ConnectCore(target=':memory:', dialect='sqlite', engine=Engine(sqlite:///:memory:), metadata=MetaData())"
      ]
     },
     "execution_count": 2,
     "metadata": {},
     "output_type": "execute_result"
    }
   ],
   "source": [
    "core = doctable.ConnectCore.open(\n",
    "    target=':memory:', \n",
    "    dialect='sqlite'\n",
    ")\n",
    "core"
   ]
  },
  {
   "cell_type": "markdown",
   "metadata": {},
   "source": [
    "Next we define a very basic schema using the `table_schema` decorator. This decorator is used to create a Container object, which contains information about the database schema and is also a dataclass that can be inserted or retrieved from the database. Read the schema definition examples for more information on creating container objects and database schemas."
   ]
  },
  {
   "cell_type": "code",
   "execution_count": 3,
   "metadata": {},
   "outputs": [
    {
     "data": {
      "text/html": [
       "<div>\n",
       "<style scoped>\n",
       "    .dataframe tbody tr th:only-of-type {\n",
       "        vertical-align: middle;\n",
       "    }\n",
       "\n",
       "    .dataframe tbody tr th {\n",
       "        vertical-align: top;\n",
       "    }\n",
       "\n",
       "    .dataframe thead th {\n",
       "        text-align: right;\n",
       "    }\n",
       "</style>\n",
       "<table border=\"1\" class=\"dataframe\">\n",
       "  <thead>\n",
       "    <tr style=\"text-align: right;\">\n",
       "      <th></th>\n",
       "      <th>Col Name</th>\n",
       "      <th>Col Type</th>\n",
       "      <th>Attr Name</th>\n",
       "      <th>Hint</th>\n",
       "      <th>Order</th>\n",
       "      <th>Primary Key</th>\n",
       "      <th>Foreign Key</th>\n",
       "      <th>Index</th>\n",
       "      <th>Default</th>\n",
       "    </tr>\n",
       "  </thead>\n",
       "  <tbody>\n",
       "    <tr>\n",
       "      <th>0</th>\n",
       "      <td>id</td>\n",
       "      <td>Integer</td>\n",
       "      <td>id</td>\n",
       "      <td>int</td>\n",
       "      <td>(inf, 0)</td>\n",
       "      <td>False</td>\n",
       "      <td>False</td>\n",
       "      <td>None</td>\n",
       "      <td>None</td>\n",
       "    </tr>\n",
       "    <tr>\n",
       "      <th>1</th>\n",
       "      <td>name</td>\n",
       "      <td>String</td>\n",
       "      <td>name</td>\n",
       "      <td>str</td>\n",
       "      <td>(inf, 1)</td>\n",
       "      <td>False</td>\n",
       "      <td>False</td>\n",
       "      <td>None</td>\n",
       "      <td>None</td>\n",
       "    </tr>\n",
       "    <tr>\n",
       "      <th>2</th>\n",
       "      <td>age</td>\n",
       "      <td>Integer</td>\n",
       "      <td>age</td>\n",
       "      <td>int</td>\n",
       "      <td>(inf, 2)</td>\n",
       "      <td>False</td>\n",
       "      <td>False</td>\n",
       "      <td>None</td>\n",
       "      <td>None</td>\n",
       "    </tr>\n",
       "  </tbody>\n",
       "</table>\n",
       "</div>"
      ],
      "text/plain": [
       "  Col Name Col Type Attr Name Hint     Order  Primary Key  Foreign Key Index  \\\n",
       "0       id  Integer        id  int  (inf, 0)        False        False  None   \n",
       "1     name   String      name  str  (inf, 1)        False        False  None   \n",
       "2      age  Integer       age  int  (inf, 2)        False        False  None   \n",
       "\n",
       "  Default  \n",
       "0    None  \n",
       "1    None  \n",
       "2    None  "
      ]
     },
     "execution_count": 3,
     "metadata": {},
     "output_type": "execute_result"
    }
   ],
   "source": [
    "@doctable.table_schema\n",
    "class MyContainer0:\n",
    "    id: int\n",
    "    name: str\n",
    "    age: int\n",
    "\n",
    "doctable.inspect_schema(MyContainer0).column_info_df()"
   ]
  },
  {
   "cell_type": "markdown",
   "metadata": {},
   "source": [
    "We actually connect to the database table using the context manager returned by `.begin_ddl()`. This design is necessary for multi-table schemas, but, because of the readability it provides, I will use it for single-table schemas as well. The method `create_table_if_not_exists` here returns a new instance of `DBTable`. Alternatively, we could reflect a database table, in which we would not be required to provide a schema container."
   ]
  },
  {
   "cell_type": "code",
   "execution_count": 4,
   "metadata": {},
   "outputs": [
    {
     "name": "stdout",
     "output_type": "stream",
     "text": [
      "{'name': 'id', 'type': INTEGER(), 'nullable': True, 'default': None, 'primary_key': 0}\n",
      "{'name': 'name', 'type': VARCHAR(), 'nullable': True, 'default': None, 'primary_key': 0}\n",
      "{'name': 'age', 'type': INTEGER(), 'nullable': True, 'default': None, 'primary_key': 0}\n"
     ]
    }
   ],
   "source": [
    "with core.begin_ddl() as emitter:\n",
    "    tab0 = emitter.create_table_if_not_exists(container_type=MyContainer0)\n",
    "for ci in core.inspect_columns('MyContainer0'):\n",
    "    print(ci)"
   ]
  },
  {
   "cell_type": "markdown",
   "metadata": {},
   "source": [
    "Among other things, the table object allows you to specify particular colums, and these will be used when performing certain types of queries. The following methods can all be used to specify columns."
   ]
  },
  {
   "cell_type": "code",
   "execution_count": 5,
   "metadata": {},
   "outputs": [
    {
     "data": {
      "text/plain": [
       "Column('id', Integer(), table=<MyContainer0>)"
      ]
     },
     "execution_count": 5,
     "metadata": {},
     "output_type": "execute_result"
    }
   ],
   "source": [
    "tab0['id']"
   ]
  },
  {
   "cell_type": "code",
   "execution_count": 6,
   "metadata": {},
   "outputs": [
    {
     "data": {
      "text/plain": [
       "[Column('id', Integer(), table=<MyContainer0>),\n",
       " Column('age', Integer(), table=<MyContainer0>)]"
      ]
     },
     "execution_count": 6,
     "metadata": {},
     "output_type": "execute_result"
    }
   ],
   "source": [
    "tab0['id','age']"
   ]
  },
  {
   "cell_type": "code",
   "execution_count": 7,
   "metadata": {},
   "outputs": [
    {
     "data": {
      "text/plain": [
       "[Column('id', Integer(), table=<MyContainer0>),\n",
       " Column('name', String(), table=<MyContainer0>),\n",
       " Column('age', Integer(), table=<MyContainer0>)]"
      ]
     },
     "execution_count": 7,
     "metadata": {},
     "output_type": "execute_result"
    }
   ],
   "source": [
    "tab0[:]"
   ]
  },
  {
   "cell_type": "markdown",
   "metadata": {},
   "source": [
    "You may also use a context manager to manage shorthand versions of tables for more compact query code."
   ]
  },
  {
   "cell_type": "code",
   "execution_count": 8,
   "metadata": {},
   "outputs": [
    {
     "name": "stdout",
     "output_type": "stream",
     "text": [
      "DBTable(table=Table('MyContainer0', MetaData(), Column('id', Integer(), table=<MyContainer0>), Column('name', String(), table=<MyContainer0>), Column('age', Integer(), table=<MyContainer0>), schema=None), core=ConnectCore(target=':memory:', dialect='sqlite', engine=Engine(sqlite:///:memory:), metadata=MetaData()), schema=TableSchema(table_name='MyContainer0', container_type=<class '__main__.MyContainer0'>, columns=[ColumnInfo(attr_name='id', type_hint=<class 'int'>, defined_order=0, column_args=ColumnArgs(order=inf, column_name=None, type_kwargs={}, use_type=None, sqlalchemy_type=None, autoincrement=False, nullable=True, unique=None, primary_key=False, index=None, foreign_key=None, default=None, onupdate=None, server_default=None, server_onupdate=None, comment=None, other_kwargs={})), ColumnInfo(attr_name='name', type_hint=<class 'str'>, defined_order=1, column_args=ColumnArgs(order=inf, column_name=None, type_kwargs={}, use_type=None, sqlalchemy_type=None, autoincrement=False, nullable=True, unique=None, primary_key=False, index=None, foreign_key=None, default=None, onupdate=None, server_default=None, server_onupdate=None, comment=None, other_kwargs={})), ColumnInfo(attr_name='age', type_hint=<class 'int'>, defined_order=2, column_args=ColumnArgs(order=inf, column_name=None, type_kwargs={}, use_type=None, sqlalchemy_type=None, autoincrement=False, nullable=True, unique=None, primary_key=False, index=None, foreign_key=None, default=None, onupdate=None, server_default=None, server_onupdate=None, comment=None, other_kwargs={}))], indices=[], constraints=[], table_kwargs={}, name_mappings=AttrColNameMappings(attr_to_col={'id': 'id', 'name': 'name', 'age': 'age'}, col_to_attr={'id': 'id', 'name': 'name', 'age': 'age'}, empty_col_kwargs={'id': MISSING, 'name': MISSING, 'age': MISSING}, empty_attr_kwargs={'id': MISSING, 'name': MISSING, 'age': MISSING})))\n"
     ]
    }
   ],
   "source": [
    "with tab0 as t:\n",
    "    print(t)"
   ]
  },
  {
   "cell_type": "markdown",
   "metadata": {},
   "source": [
    "We can perform queries on the database using the `ConnectQuery` interface returned from the `ConnectCore.query()` method. In this case, we insert a new row into the database using the `insert_multi()` method. Note that we will use an alternative interface for inserting container instances into the database, as I will show later."
   ]
  },
  {
   "cell_type": "code",
   "execution_count": 9,
   "metadata": {},
   "outputs": [
    {
     "data": {
      "text/plain": [
       "<sqlalchemy.engine.cursor.CursorResult at 0x71f855ce9b00>"
      ]
     },
     "execution_count": 9,
     "metadata": {},
     "output_type": "execute_result"
    }
   ],
   "source": [
    "core.query().insert_multi(\n",
    "    dtable = tab0, \n",
    "    data = [\n",
    "        {'name': 'Devin J. Cornell', 'age': 50},\n",
    "        {'name': 'Dorothy Andrews', 'age': 49},\n",
    "    ]\n",
    ")"
   ]
  },
  {
   "cell_type": "markdown",
   "metadata": {},
   "source": [
    "The `select()` query works in much the same way. We simply specify which columns from the DB that we would like to retrieve. This select query returns instances of raw `sqlalchemy.engine.row.Row` objects from the sqlalchemy core interface. Use the `.all()` method to get a list of these rows, but see the select method documentation for a complete list."
   ]
  },
  {
   "cell_type": "code",
   "execution_count": 10,
   "metadata": {},
   "outputs": [
    {
     "data": {
      "text/plain": [
       "[(None, 'Devin J. Cornell', 50), (None, 'Dorothy Andrews', 49)]"
      ]
     },
     "execution_count": 10,
     "metadata": {},
     "output_type": "execute_result"
    }
   ],
   "source": [
    "core.query().select(tab0[:]).all()"
   ]
  },
  {
   "cell_type": "markdown",
   "metadata": {},
   "source": [
    "For example, we can use `scalars()` instead to get a sequence of single values. Note that I used `tab0['id',]` instead of `tab0['id']` because it returns a list of columns that is required for every select query."
   ]
  },
  {
   "cell_type": "code",
   "execution_count": 11,
   "metadata": {},
   "outputs": [
    {
     "data": {
      "text/plain": [
       "[None, None]"
      ]
     },
     "execution_count": 11,
     "metadata": {},
     "output_type": "execute_result"
    }
   ],
   "source": [
    "list(core.query().select(tab0['id',]).scalars())"
   ]
  },
  {
   "cell_type": "markdown",
   "metadata": {},
   "source": [
    "A more elegant approach is to use a context manager to make cleaner queries - especially when there are many parameters and the table must be referenced multiple times."
   ]
  },
  {
   "cell_type": "code",
   "execution_count": 12,
   "metadata": {},
   "outputs": [
    {
     "data": {
      "text/plain": [
       "[]"
      ]
     },
     "execution_count": 12,
     "metadata": {},
     "output_type": "execute_result"
    }
   ],
   "source": [
    "with tab0 as t, core.query() as q:\n",
    "    ids = q.select(t['id',], where = t['id'] != None).scalars()\n",
    "list(ids)"
   ]
  },
  {
   "cell_type": "markdown",
   "metadata": {},
   "source": [
    "The table `DBTable` interface also has a `.query()` method for when working with container objects directly is preferable. To insert container object instances into the table, I instead use the `DBTable.query()` method to generate a `TableQuery` instance. This behaves much like `ConnectQuery` except that returned data will be placed into new container instances and we may insert data from container instances directly."
   ]
  },
  {
   "cell_type": "code",
   "execution_count": 13,
   "metadata": {},
   "outputs": [
    {
     "data": {
      "text/plain": [
       "<sqlalchemy.engine.cursor.CursorResult at 0x71f855cea430>"
      ]
     },
     "execution_count": 13,
     "metadata": {},
     "output_type": "execute_result"
    }
   ],
   "source": [
    "tab0.query().insert_single(\n",
    "    container_object = MyContainer0(id=16, name='John Doe', age=30),\n",
    ")"
   ]
  },
  {
   "cell_type": "code",
   "execution_count": 14,
   "metadata": {},
   "outputs": [
    {
     "data": {
      "text/plain": [
       "<sqlalchemy.engine.cursor.CursorResult at 0x71f855cea190>"
      ]
     },
     "execution_count": 14,
     "metadata": {},
     "output_type": "execute_result"
    }
   ],
   "source": [
    "tab0.query().insert_multi(\n",
    "    data = [\n",
    "        MyContainer0(id=0, name='Jane Doe', age=30),\n",
    "        MyContainer0(id=0, name='Markus Morn', age=50),\n",
    "    ],\n",
    ")"
   ]
  },
  {
   "cell_type": "markdown",
   "metadata": {},
   "source": [
    "Here I define a more complicated schema. \n",
    "\n",
    "+ The standard `id` column is now included. Notice that `order=0` means the column will appear first in the table.\n",
    "+ The `updated` and `added` attributes have been created to automatically record the time of insertion and update.\n",
    "+ I added the `birthyear` method to the container type."
   ]
  },
  {
   "cell_type": "code",
   "execution_count": 15,
   "metadata": {},
   "outputs": [
    {
     "data": {
      "text/html": [
       "<div>\n",
       "<style scoped>\n",
       "    .dataframe tbody tr th:only-of-type {\n",
       "        vertical-align: middle;\n",
       "    }\n",
       "\n",
       "    .dataframe tbody tr th {\n",
       "        vertical-align: top;\n",
       "    }\n",
       "\n",
       "    .dataframe thead th {\n",
       "        text-align: right;\n",
       "    }\n",
       "</style>\n",
       "<table border=\"1\" class=\"dataframe\">\n",
       "  <thead>\n",
       "    <tr style=\"text-align: right;\">\n",
       "      <th></th>\n",
       "      <th>Col Name</th>\n",
       "      <th>Col Type</th>\n",
       "      <th>Attr Name</th>\n",
       "      <th>Hint</th>\n",
       "      <th>Order</th>\n",
       "      <th>Primary Key</th>\n",
       "      <th>Foreign Key</th>\n",
       "      <th>Index</th>\n",
       "      <th>Default</th>\n",
       "    </tr>\n",
       "  </thead>\n",
       "  <tbody>\n",
       "    <tr>\n",
       "      <th>0</th>\n",
       "      <td>id</td>\n",
       "      <td>Integer</td>\n",
       "      <td>_id</td>\n",
       "      <td>int</td>\n",
       "      <td>(0, 2)</td>\n",
       "      <td>True</td>\n",
       "      <td>False</td>\n",
       "      <td>None</td>\n",
       "      <td>None</td>\n",
       "    </tr>\n",
       "    <tr>\n",
       "      <th>1</th>\n",
       "      <td>name</td>\n",
       "      <td>String</td>\n",
       "      <td>name</td>\n",
       "      <td>str</td>\n",
       "      <td>(inf, 0)</td>\n",
       "      <td>False</td>\n",
       "      <td>False</td>\n",
       "      <td>None</td>\n",
       "      <td>None</td>\n",
       "    </tr>\n",
       "    <tr>\n",
       "      <th>2</th>\n",
       "      <td>age</td>\n",
       "      <td>Integer</td>\n",
       "      <td>age</td>\n",
       "      <td>int</td>\n",
       "      <td>(inf, 1)</td>\n",
       "      <td>False</td>\n",
       "      <td>False</td>\n",
       "      <td>None</td>\n",
       "      <td>None</td>\n",
       "    </tr>\n",
       "    <tr>\n",
       "      <th>3</th>\n",
       "      <td>updated</td>\n",
       "      <td>DateTime</td>\n",
       "      <td>updated</td>\n",
       "      <td>datetime</td>\n",
       "      <td>(inf, 3)</td>\n",
       "      <td>False</td>\n",
       "      <td>False</td>\n",
       "      <td>None</td>\n",
       "      <td>utcnow</td>\n",
       "    </tr>\n",
       "    <tr>\n",
       "      <th>4</th>\n",
       "      <td>added</td>\n",
       "      <td>DateTime</td>\n",
       "      <td>added</td>\n",
       "      <td>datetime</td>\n",
       "      <td>(inf, 4)</td>\n",
       "      <td>False</td>\n",
       "      <td>False</td>\n",
       "      <td>None</td>\n",
       "      <td>utcnow</td>\n",
       "    </tr>\n",
       "  </tbody>\n",
       "</table>\n",
       "</div>"
      ],
      "text/plain": [
       "  Col Name  Col Type Attr Name      Hint     Order  Primary Key  Foreign Key  \\\n",
       "0       id   Integer       _id       int    (0, 2)         True        False   \n",
       "1     name    String      name       str  (inf, 0)        False        False   \n",
       "2      age   Integer       age       int  (inf, 1)        False        False   \n",
       "3  updated  DateTime   updated  datetime  (inf, 3)        False        False   \n",
       "4    added  DateTime     added  datetime  (inf, 4)        False        False   \n",
       "\n",
       "  Index Default  \n",
       "0  None    None  \n",
       "1  None    None  \n",
       "2  None    None  \n",
       "3  None  utcnow  \n",
       "4  None  utcnow  "
      ]
     },
     "execution_count": 15,
     "metadata": {},
     "output_type": "execute_result"
    }
   ],
   "source": [
    "import datetime\n",
    "@doctable.table_schema(table_name='mytable1')\n",
    "class MyContainer1:\n",
    "    name: str\n",
    "    age: int\n",
    "    _id: int = doctable.Column(\n",
    "        column_args=doctable.ColumnArgs(\n",
    "            column_name = 'id',\n",
    "            order=0, \n",
    "            primary_key=True, \n",
    "            autoincrement=True\n",
    "        ),\n",
    "    )\n",
    "    updated: datetime.datetime = doctable.Column(\n",
    "        column_args=doctable.ColumnArgs(default=datetime.datetime.utcnow),\n",
    "    )\n",
    "    added: datetime.datetime = doctable.Column(\n",
    "        column_args=doctable.ColumnArgs(\n",
    "            default=datetime.datetime.utcnow, \n",
    "            onupdate=datetime.datetime.utcnow,\n",
    "        )\n",
    "    )\n",
    "    \n",
    "    def birthyear(self):\n",
    "        '''Retrieve the birthyear of the person at the time this database entry was added.'''\n",
    "        try:\n",
    "            return self.added.year - self.age\n",
    "        except AttributeError as e:\n",
    "            raise AttributeError('Cannot calculate birthyear without the added date. '\n",
    "                'Did you mean to call this on a retrieved container instance?') from e\n",
    "    \n",
    "doctable.inspect_schema(MyContainer1).column_info_df()"
   ]
  },
  {
   "cell_type": "markdown",
   "metadata": {},
   "source": [
    "We create this table just as we did the one before, and show the new schema using inspection."
   ]
  },
  {
   "cell_type": "code",
   "execution_count": 16,
   "metadata": {},
   "outputs": [
    {
     "name": "stdout",
     "output_type": "stream",
     "text": [
      "{'name': 'id', 'type': INTEGER(), 'nullable': True, 'default': None, 'primary_key': 1}\n",
      "{'name': 'name', 'type': VARCHAR(), 'nullable': True, 'default': None, 'primary_key': 0}\n",
      "{'name': 'age', 'type': INTEGER(), 'nullable': True, 'default': None, 'primary_key': 0}\n",
      "{'name': 'updated', 'type': DATETIME(), 'nullable': True, 'default': None, 'primary_key': 0}\n",
      "{'name': 'added', 'type': DATETIME(), 'nullable': True, 'default': None, 'primary_key': 0}\n"
     ]
    }
   ],
   "source": [
    "with core.begin_ddl() as emitter:\n",
    "    tab1 = emitter.create_table_if_not_exists(container_type=MyContainer1)\n",
    "\n",
    "for ci in core.inspect_columns('mytable1'):\n",
    "    print(ci)"
   ]
  },
  {
   "cell_type": "markdown",
   "metadata": {},
   "source": [
    "We can create a container instance just as we did before. Note that `id`, `updated`, and `added` are optionally now because we expect the database to create them."
   ]
  },
  {
   "cell_type": "code",
   "execution_count": 17,
   "metadata": {},
   "outputs": [
    {
     "data": {
      "text/plain": [
       "MyContainer1(name='John Doe', age=30, _id=MISSING, updated=MISSING, added=MISSING)"
      ]
     },
     "execution_count": 17,
     "metadata": {},
     "output_type": "execute_result"
    }
   ],
   "source": [
    "o = MyContainer1(name='John Doe', age=30)\n",
    "o"
   ]
  },
  {
   "cell_type": "markdown",
   "metadata": {},
   "source": [
    "As expected, calling `.birthyear()` raises an exception because the `added` entry has not been recorded - that will happen at insertion into the db."
   ]
  },
  {
   "cell_type": "code",
   "execution_count": 18,
   "metadata": {},
   "outputs": [
    {
     "name": "stdout",
     "output_type": "stream",
     "text": [
      "error raised: Cannot calculate birthyear without the added date. Did you mean to call this on a retrieved container instance?\n"
     ]
    }
   ],
   "source": [
    "try:\n",
    "    o.birthyear()\n",
    "except AttributeError as e:\n",
    "    print('error raised:', e)"
   ]
  },
  {
   "cell_type": "markdown",
   "metadata": {},
   "source": [
    "After inserting the object into the database and retrieving it again, we can see that those previously missing fields have been populated."
   ]
  },
  {
   "cell_type": "code",
   "execution_count": 19,
   "metadata": {},
   "outputs": [
    {
     "data": {
      "text/plain": [
       "MyContainer1(name='John Doe', age=30, _id=1, updated=datetime.datetime(2024, 5, 15, 18, 5, 11, 747969), added=datetime.datetime(2024, 5, 15, 18, 5, 11, 747971))"
      ]
     },
     "execution_count": 19,
     "metadata": {},
     "output_type": "execute_result"
    }
   ],
   "source": [
    "with tab1.query() as q:\n",
    "    q.insert_single(o)\n",
    "    results = q.select()\n",
    "results[0]"
   ]
  },
  {
   "cell_type": "markdown",
   "metadata": {},
   "source": [
    "And now we can call the `birthyear()` method."
   ]
  },
  {
   "cell_type": "code",
   "execution_count": 20,
   "metadata": {},
   "outputs": [
    {
     "data": {
      "text/plain": [
       "1994"
      ]
     },
     "execution_count": 20,
     "metadata": {},
     "output_type": "execute_result"
    }
   ],
   "source": [
    "results[0].birthyear()"
   ]
  },
  {
   "cell_type": "markdown",
   "metadata": {},
   "source": [
    "### Conclusion\n",
    "\n",
    "For more detailed explanations of these topics, see the documentation and API reference provided on the website. Good luck!"
   ]
  }
 ],
 "metadata": {
  "kernelspec": {
   "display_name": "Python 3 (ipykernel)",
   "language": "python",
   "name": "python3"
  },
  "language_info": {
   "codemirror_mode": {
    "name": "ipython",
    "version": 3
   },
   "file_extension": ".py",
   "mimetype": "text/x-python",
   "name": "python",
   "nbconvert_exporter": "python",
   "pygments_lexer": "ipython3",
   "version": "3.11.5"
  }
 },
 "nbformat": 4,
 "nbformat_minor": 2
}
