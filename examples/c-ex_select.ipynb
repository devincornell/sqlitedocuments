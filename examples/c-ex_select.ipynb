{
 "cells": [
  {
   "cell_type": "markdown",
   "metadata": {},
   "source": [
    "# Select Queries\n",
    "\n",
    "In this document I will describe the interface for performing select queries with `doctable`. "
   ]
  },
  {
   "cell_type": "code",
   "execution_count": 1,
   "metadata": {},
   "outputs": [],
   "source": [
    "\n",
    "import pandas as pd\n",
    "import numpy as np\n",
    "import typing\n",
    "\n",
    "import sys\n",
    "sys.path.append('..')\n",
    "import doctable"
   ]
  },
  {
   "cell_type": "markdown",
   "metadata": {},
   "source": [
    "#### Define a demonstration schema\n",
    "\n",
    "The very first step is to define a table schema that will be appropriate for our examples. This table includes the typical `id` column (the first column, specified by `order=0`), as well as string, integer, and boolean attributes. The object used to specify the schema is called a _container_, and I will use that terminology as we go."
   ]
  },
  {
   "cell_type": "code",
   "execution_count": 2,
   "metadata": {},
   "outputs": [
    {
     "name": "stdout",
     "output_type": "stream",
     "text": [
      "2024-05-15 14:48:27,852 INFO sqlalchemy.engine.Engine BEGIN (implicit)\n",
      "2024-05-15 14:48:27,853 INFO sqlalchemy.engine.Engine PRAGMA main.table_info(\"Record\")\n",
      "2024-05-15 14:48:27,854 INFO sqlalchemy.engine.Engine [raw sql] ()\n",
      "2024-05-15 14:48:27,855 INFO sqlalchemy.engine.Engine PRAGMA temp.table_info(\"Record\")\n",
      "2024-05-15 14:48:27,855 INFO sqlalchemy.engine.Engine [raw sql] ()\n",
      "2024-05-15 14:48:27,857 INFO sqlalchemy.engine.Engine \n",
      "CREATE TABLE \"Record\" (\n",
      "\tid INTEGER, \n",
      "\tname VARCHAR NOT NULL, \n",
      "\tage INTEGER, \n",
      "\tis_old INTEGER, \n",
      "\tPRIMARY KEY (id), \n",
      "\tUNIQUE (name)\n",
      ")\n",
      "\n",
      "\n",
      "2024-05-15 14:48:27,857 INFO sqlalchemy.engine.Engine [no key 0.00045s] ()\n",
      "2024-05-15 14:48:27,858 INFO sqlalchemy.engine.Engine COMMIT\n"
     ]
    }
   ],
   "source": [
    "@doctable.table_schema\n",
    "class Record:\n",
    "    name: str = doctable.Column(column_args=doctable.ColumnArgs(nullable=False, unique=True))\n",
    "    age: int = doctable.Column()\n",
    "    is_old: bool = doctable.Column()\n",
    "    \n",
    "    id: int = doctable.Column(\n",
    "        column_args=doctable.ColumnArgs(\n",
    "            order = 0, \n",
    "            primary_key=True, \n",
    "            autoincrement=True\n",
    "        ),\n",
    "    )\n",
    "\n",
    "core = doctable.ConnectCore.open(target=':memory:', dialect='sqlite', echo=True)\n",
    "\n",
    "with core.begin_ddl() as ddl:\n",
    "    rtab = ddl.create_table_if_not_exists(container_type=Record)"
   ]
  },
  {
   "cell_type": "markdown",
   "metadata": {},
   "source": [
    "#### Insert test data\n",
    "\n",
    "We insert the test data using the `TableQuery` interface. Because this document is about select queries, feel free to look over this for now. I show the contents of the table as a dataframe below. The interface for doing this will be covered later in this document."
   ]
  },
  {
   "cell_type": "code",
   "execution_count": 3,
   "metadata": {},
   "outputs": [
    {
     "name": "stdout",
     "output_type": "stream",
     "text": [
      "2024-05-15 14:48:27,867 INFO sqlalchemy.engine.Engine BEGIN (implicit)\n",
      "2024-05-15 14:48:27,868 INFO sqlalchemy.engine.Engine INSERT OR FAIL INTO \"Record\" (name, age, is_old) VALUES (?, ?, ?)\n",
      "2024-05-15 14:48:27,869 INFO sqlalchemy.engine.Engine [generated in 0.00194s] [('user_0', 84, True), ('user_1', 75, True), ('user_2', 42, False), ('user_3', 25, False), ('user_4', 51, True), ('user_5', 40, False), ('user_6', 78, True), ('user_7', 30, False), ('user_8', 47, False), ('user_9', 58, True)]\n",
      "2024-05-15 14:48:27,871 INFO sqlalchemy.engine.Engine BEGIN (implicit)\n",
      "2024-05-15 14:48:27,872 INFO sqlalchemy.engine.Engine SELECT \"Record\".id, \"Record\".name, \"Record\".age, \"Record\".is_old \n",
      "FROM \"Record\"\n",
      "2024-05-15 14:48:27,872 INFO sqlalchemy.engine.Engine [generated in 0.00101s] ()\n"
     ]
    },
    {
     "data": {
      "text/html": [
       "<div>\n",
       "<style scoped>\n",
       "    .dataframe tbody tr th:only-of-type {\n",
       "        vertical-align: middle;\n",
       "    }\n",
       "\n",
       "    .dataframe tbody tr th {\n",
       "        vertical-align: top;\n",
       "    }\n",
       "\n",
       "    .dataframe thead th {\n",
       "        text-align: right;\n",
       "    }\n",
       "</style>\n",
       "<table border=\"1\" class=\"dataframe\">\n",
       "  <thead>\n",
       "    <tr style=\"text-align: right;\">\n",
       "      <th></th>\n",
       "      <th>id</th>\n",
       "      <th>name</th>\n",
       "      <th>age</th>\n",
       "      <th>is_old</th>\n",
       "    </tr>\n",
       "  </thead>\n",
       "  <tbody>\n",
       "    <tr>\n",
       "      <th>0</th>\n",
       "      <td>1</td>\n",
       "      <td>user_0</td>\n",
       "      <td>84</td>\n",
       "      <td>1</td>\n",
       "    </tr>\n",
       "    <tr>\n",
       "      <th>1</th>\n",
       "      <td>2</td>\n",
       "      <td>user_1</td>\n",
       "      <td>75</td>\n",
       "      <td>1</td>\n",
       "    </tr>\n",
       "    <tr>\n",
       "      <th>2</th>\n",
       "      <td>3</td>\n",
       "      <td>user_2</td>\n",
       "      <td>42</td>\n",
       "      <td>0</td>\n",
       "    </tr>\n",
       "    <tr>\n",
       "      <th>3</th>\n",
       "      <td>4</td>\n",
       "      <td>user_3</td>\n",
       "      <td>25</td>\n",
       "      <td>0</td>\n",
       "    </tr>\n",
       "    <tr>\n",
       "      <th>4</th>\n",
       "      <td>5</td>\n",
       "      <td>user_4</td>\n",
       "      <td>51</td>\n",
       "      <td>1</td>\n",
       "    </tr>\n",
       "    <tr>\n",
       "      <th>5</th>\n",
       "      <td>6</td>\n",
       "      <td>user_5</td>\n",
       "      <td>40</td>\n",
       "      <td>0</td>\n",
       "    </tr>\n",
       "    <tr>\n",
       "      <th>6</th>\n",
       "      <td>7</td>\n",
       "      <td>user_6</td>\n",
       "      <td>78</td>\n",
       "      <td>1</td>\n",
       "    </tr>\n",
       "    <tr>\n",
       "      <th>7</th>\n",
       "      <td>8</td>\n",
       "      <td>user_7</td>\n",
       "      <td>30</td>\n",
       "      <td>0</td>\n",
       "    </tr>\n",
       "    <tr>\n",
       "      <th>8</th>\n",
       "      <td>9</td>\n",
       "      <td>user_8</td>\n",
       "      <td>47</td>\n",
       "      <td>0</td>\n",
       "    </tr>\n",
       "    <tr>\n",
       "      <th>9</th>\n",
       "      <td>10</td>\n",
       "      <td>user_9</td>\n",
       "      <td>58</td>\n",
       "      <td>1</td>\n",
       "    </tr>\n",
       "  </tbody>\n",
       "</table>\n",
       "</div>"
      ],
      "text/plain": [
       "   id    name  age  is_old\n",
       "0   1  user_0   84       1\n",
       "1   2  user_1   75       1\n",
       "2   3  user_2   42       0\n",
       "3   4  user_3   25       0\n",
       "4   5  user_4   51       1\n",
       "5   6  user_5   40       0\n",
       "6   7  user_6   78       1\n",
       "7   8  user_7   30       0\n",
       "8   9  user_8   47       0\n",
       "9  10  user_9   58       1"
      ]
     },
     "execution_count": 3,
     "metadata": {},
     "output_type": "execute_result"
    }
   ],
   "source": [
    "import random\n",
    "random.seed(0)\n",
    "\n",
    "new_records: typing.List[Record] = list()\n",
    "for i in range(10):\n",
    "    age = int(random.random()*100) # number in [0,1]\n",
    "    is_old = age > 50\n",
    "    new_records.append(Record(name='user_'+str(i), age=age, is_old=is_old))\n",
    "\n",
    "# insert new records\n",
    "rtab.query().insert_multi(new_records)\n",
    "\n",
    "# dataframe select (for example purposes - .df() will be covered later)\n",
    "r = core.query().select(rtab[:]).df()\n",
    "r"
   ]
  },
  {
   "cell_type": "markdown",
   "metadata": {},
   "source": [
    "## Working With `DBTable` Objects"
   ]
  },
  {
   "cell_type": "code",
   "execution_count": 4,
   "metadata": {},
   "outputs": [
    {
     "name": "stdout",
     "output_type": "stream",
     "text": [
      "<class 'doctable.dbtable.dbtable.DBTable'>\n"
     ]
    }
   ],
   "source": [
    "print(type(rtab))"
   ]
  },
  {
   "cell_type": "markdown",
   "metadata": {},
   "source": [
    "### Selecting Specific Columns\n",
    "\n",
    "In many cases, you would not want to select all columns from a given table - for this reason, there are several methods you can use to specify the desired columns. In addition to `table[:]` in the above snippet, you may use any of these methods.\n",
    "\n",
    "| Method | Description |\n",
    "| --- | --- |\n",
    "| `table[:]` | Returns list of all columns. |\n",
    "| `table['col1']` | Returns a single column object. |\n",
    "| `table['col1',]` | Returns a single column object inside a list. |\n",
    "| `table['col1', 'col2']` | Returns list of specified columns. |\n",
    "| `table[['col1', 'col2']]` | Returns list of specified columns. |\n",
    "| `table[('col1', 'col2')]` | Returns list of specified columns. |\n",
    "| `table['col1':'col3']` | Returns sequential range of columns as a list. |\n",
    "| `.all_cols()` | DEPRICATED. Returns list of all columns. |\n",
    "| `.cols('col1', 'col2')` | DEPRICATED. Returns list of specified columns. |"
   ]
  },
  {
   "cell_type": "code",
   "execution_count": 5,
   "metadata": {},
   "outputs": [
    {
     "data": {
      "text/plain": [
       "[Column('id', Integer(), table=<Record>, primary_key=True),\n",
       " Column('name', String(), table=<Record>, nullable=False),\n",
       " Column('age', Integer(), table=<Record>),\n",
       " Column('is_old', Integer(), table=<Record>)]"
      ]
     },
     "execution_count": 5,
     "metadata": {},
     "output_type": "execute_result"
    }
   ],
   "source": [
    "# all columns\n",
    "rtab[:]"
   ]
  },
  {
   "cell_type": "code",
   "execution_count": 6,
   "metadata": {},
   "outputs": [
    {
     "data": {
      "text/plain": [
       "Column('age', Integer(), table=<Record>)"
      ]
     },
     "execution_count": 6,
     "metadata": {},
     "output_type": "execute_result"
    }
   ],
   "source": [
    "# single-column subscript\n",
    "rtab['age']"
   ]
  },
  {
   "cell_type": "code",
   "execution_count": 7,
   "metadata": {},
   "outputs": [
    {
     "data": {
      "text/plain": [
       "[Column('age', Integer(), table=<Record>)]"
      ]
     },
     "execution_count": 7,
     "metadata": {},
     "output_type": "execute_result"
    }
   ],
   "source": [
    "# get a single column inside a list\n",
    "rtab['age',]"
   ]
  },
  {
   "cell_type": "code",
   "execution_count": 8,
   "metadata": {},
   "outputs": [
    {
     "data": {
      "text/plain": [
       "[Column('id', Integer(), table=<Record>, primary_key=True),\n",
       " Column('is_old', Integer(), table=<Record>)]"
      ]
     },
     "execution_count": 8,
     "metadata": {},
     "output_type": "execute_result"
    }
   ],
   "source": [
    "# list of columns\n",
    "rtab[['id','is_old']]"
   ]
  },
  {
   "cell_type": "code",
   "execution_count": 9,
   "metadata": {},
   "outputs": [
    {
     "data": {
      "text/plain": [
       "[Column('id', Integer(), table=<Record>, primary_key=True),\n",
       " Column('name', String(), table=<Record>, nullable=False),\n",
       " Column('age', Integer(), table=<Record>),\n",
       " Column('is_old', Integer(), table=<Record>)]"
      ]
     },
     "execution_count": 9,
     "metadata": {},
     "output_type": "execute_result"
    }
   ],
   "source": [
    "# slice select\n",
    "rtab['id':'is_old']"
   ]
  },
  {
   "cell_type": "markdown",
   "metadata": {},
   "source": [
    "Note that the `.select()` method requires a list of columns, so we can combine these methods by combining the lists they return. Obviously, the order matters for the returned values."
   ]
  },
  {
   "cell_type": "code",
   "execution_count": 10,
   "metadata": {},
   "outputs": [
    {
     "data": {
      "text/plain": [
       "[Column('id', Integer(), table=<Record>, primary_key=True),\n",
       " Column('age', Integer(), table=<Record>),\n",
       " Column('name', String(), table=<Record>, nullable=False)]"
      ]
     },
     "execution_count": 10,
     "metadata": {},
     "output_type": "execute_result"
    }
   ],
   "source": [
    "rtab['id','age'] + [rtab['name']]"
   ]
  },
  {
   "cell_type": "markdown",
   "metadata": {},
   "source": [
    "### Use table as a context manager\n",
    "Longer queries will often require more references to `DBTable` objects, so creating a shorthand for the table variable is recommended. One way to do this is by using it as a context manager, which simply returns the table itself. While this may be an unusual application of a context manager, I will show later how it can result in queries that are easier to read. The context manager syntax makes it easy to create shorthand variables for multiple tables and for query objects, as I will show later."
   ]
  },
  {
   "cell_type": "code",
   "execution_count": 11,
   "metadata": {},
   "outputs": [
    {
     "name": "stdout",
     "output_type": "stream",
     "text": [
      "<class 'doctable.dbtable.dbtable.DBTable'>\n"
     ]
    }
   ],
   "source": [
    "with rtab as t:\n",
    "    print(type(t))"
   ]
  },
  {
   "cell_type": "markdown",
   "metadata": {},
   "source": [
    "## Two Query Interfaces: `ConnectQuery` and `TableQuery`\n",
    "\n",
    "There are two interfaces for performing queries: `ConnectQuery` and `TableQuery`. Select queries can be performed through either interface, and the interface type determines the type that will be returned.\n",
    "\n",
    "+ **`ConnectQuery`** table-agnostic interface for querying any table in any result format.\n",
    "\n",
    "+ **`TableQuery`** table-specific interface for querying a specific table. Insert and select from container objects used to define the schema.\n"
   ]
  },
  {
   "cell_type": "code",
   "execution_count": 12,
   "metadata": {},
   "outputs": [
    {
     "name": "stdout",
     "output_type": "stream",
     "text": [
      "<class 'doctable.query.connectquery.ConnectQuery'>\n",
      "<class 'doctable.query.tablequery.TableQuery'>\n"
     ]
    }
   ],
   "source": [
    "# ConnectQuery - table agnostic\n",
    "with core.query() as q:\n",
    "    print(type(q))\n",
    "\n",
    "# TableQuery - queries are relative to specific \n",
    "# table, results appear as container objects\n",
    "with rtab.query() as q:\n",
    "    print(type(q))"
   ]
  },
  {
   "cell_type": "markdown",
   "metadata": {},
   "source": [
    "### Use Context Managers\n",
    "For any but the simplest queries, I recommend using the query interfaces as context managers. Note that you can combine table context managers and query context managers in a single line. This allows us to create much more compact query expressions"
   ]
  },
  {
   "cell_type": "code",
   "execution_count": 13,
   "metadata": {},
   "outputs": [
    {
     "name": "stdout",
     "output_type": "stream",
     "text": [
      "2024-05-15 14:48:28,000 INFO sqlalchemy.engine.Engine BEGIN (implicit)\n",
      "2024-05-15 14:48:28,001 INFO sqlalchemy.engine.Engine SELECT \"Record\".id, \"Record\".name, \"Record\".age, \"Record\".is_old \n",
      "FROM \"Record\"\n",
      "2024-05-15 14:48:28,001 INFO sqlalchemy.engine.Engine [cached since 0.1305s ago] ()\n",
      "2024-05-15 14:48:28,002 INFO sqlalchemy.engine.Engine COMMIT\n"
     ]
    }
   ],
   "source": [
    "with rtab as t, core.query() as q:\n",
    "    q.select(t[:])"
   ]
  },
  {
   "cell_type": "markdown",
   "metadata": {},
   "source": [
    "### `ConnectQuery` Basics\n",
    "\n",
    "First I will discuss the `ConnectQuery` interface, which is created via the `ConnectCore.query()` method. This object maintains a database connection, and, when used as a context manager, will commit all changes upon exit. It is fine to use the `ConnectQuery` object without a context manager for queries that do not require commits.\n",
    "\n",
    "This example is the most basic select query we can execute. Note that `ConnectQuery` methods are table-agnostic, so we must specify columns to be selected - in this case, we provide `rtab[:]` to specify that we want to query all columns from the `Record` table. It returns a `sqlalchemy.CursorResult` object that we will discuss later."
   ]
  },
  {
   "cell_type": "code",
   "execution_count": 14,
   "metadata": {},
   "outputs": [
    {
     "name": "stdout",
     "output_type": "stream",
     "text": [
      "2024-05-15 14:48:28,015 INFO sqlalchemy.engine.Engine BEGIN (implicit)\n",
      "2024-05-15 14:48:28,016 INFO sqlalchemy.engine.Engine SELECT \"Record\".id, \"Record\".name, \"Record\".age, \"Record\".is_old \n",
      "FROM \"Record\"\n",
      "2024-05-15 14:48:28,016 INFO sqlalchemy.engine.Engine [cached since 0.1455s ago] ()\n"
     ]
    },
    {
     "data": {
      "text/plain": [
       "<sqlalchemy.engine.cursor.CursorResult at 0x7aa501b3f070>"
      ]
     },
     "execution_count": 14,
     "metadata": {},
     "output_type": "execute_result"
    }
   ],
   "source": [
    "core.query().select(rtab[:])"
   ]
  },
  {
   "cell_type": "code",
   "execution_count": 15,
   "metadata": {},
   "outputs": [
    {
     "name": "stdout",
     "output_type": "stream",
     "text": [
      "2024-05-15 14:48:28,027 INFO sqlalchemy.engine.Engine BEGIN (implicit)\n",
      "2024-05-15 14:48:28,028 INFO sqlalchemy.engine.Engine SELECT \"Record\".id, \"Record\".name, \"Record\".age, \"Record\".is_old \n",
      "FROM \"Record\"\n",
      "2024-05-15 14:48:28,029 INFO sqlalchemy.engine.Engine [cached since 0.1577s ago] ()\n",
      "2024-05-15 14:48:28,030 INFO sqlalchemy.engine.Engine COMMIT\n"
     ]
    }
   ],
   "source": [
    "with rtab as t, core.query() as q:\n",
    "    q.select(t[:])"
   ]
  },
  {
   "cell_type": "markdown",
   "metadata": {},
   "source": [
    "The `.select()` method always accepts a list of columns, so be sure to wrap single-column selections in a list."
   ]
  },
  {
   "cell_type": "code",
   "execution_count": 16,
   "metadata": {},
   "outputs": [
    {
     "name": "stdout",
     "output_type": "stream",
     "text": [
      "2024-05-15 14:48:28,039 INFO sqlalchemy.engine.Engine BEGIN (implicit)\n",
      "2024-05-15 14:48:28,040 INFO sqlalchemy.engine.Engine SELECT \"Record\".name \n",
      "FROM \"Record\"\n",
      "2024-05-15 14:48:28,040 INFO sqlalchemy.engine.Engine [generated in 0.00164s] ()\n"
     ]
    },
    {
     "data": {
      "text/plain": [
       "<sqlalchemy.engine.cursor.CursorResult at 0x7aa501b3fbd0>"
      ]
     },
     "execution_count": 16,
     "metadata": {},
     "output_type": "execute_result"
    }
   ],
   "source": [
    "core.query().select(rtab['name',])"
   ]
  },
  {
   "cell_type": "code",
   "execution_count": 17,
   "metadata": {},
   "outputs": [
    {
     "name": "stdout",
     "output_type": "stream",
     "text": [
      "2024-05-15 14:48:28,051 INFO sqlalchemy.engine.Engine BEGIN (implicit)\n",
      "2024-05-15 14:48:28,052 INFO sqlalchemy.engine.Engine SELECT \"Record\".id, \"Record\".is_old \n",
      "FROM \"Record\"\n",
      "2024-05-15 14:48:28,052 INFO sqlalchemy.engine.Engine [generated in 0.00137s] ()\n"
     ]
    },
    {
     "data": {
      "text/plain": [
       "<sqlalchemy.engine.cursor.CursorResult at 0x7aa501b3ca60>"
      ]
     },
     "execution_count": 17,
     "metadata": {},
     "output_type": "execute_result"
    }
   ],
   "source": [
    "core.query().select(rtab['id','is_old'])"
   ]
  },
  {
   "cell_type": "markdown",
   "metadata": {},
   "source": [
    "### Working with Query Results\n",
    "\n",
    "Now we turn to working with the results objects. So far I have demonstrated values for returning `sqlalchemy.CursorResult` objects, but additional methods are required to return the results in a usable format. The following methods are available for various purposes:\n",
    "\n",
    "| Method | Description |\n",
    "| --- | --- |\n",
    "| `result.all()` | return all results in query\n",
    "| `result.df()` | return multiple results as a dataframe\n",
    "| `result.first()` | return first result in query\n",
    "| `result.one()` | return exactly one result in query. NOTE: raises exception if not exactly one result.\n",
    "| `result.scalar_one()` | return single result, end query. NOTE: raises exception if not exactly one result.\n",
    "| `result.scalars().all()` | return single column of results"
   ]
  },
  {
   "cell_type": "code",
   "execution_count": 18,
   "metadata": {},
   "outputs": [
    {
     "name": "stdout",
     "output_type": "stream",
     "text": [
      "2024-05-15 14:48:28,063 INFO sqlalchemy.engine.Engine BEGIN (implicit)\n",
      "2024-05-15 14:48:28,064 INFO sqlalchemy.engine.Engine SELECT \"Record\".id, \"Record\".name, \"Record\".age, \"Record\".is_old \n",
      "FROM \"Record\"\n",
      " LIMIT ? OFFSET ?\n",
      "2024-05-15 14:48:28,064 INFO sqlalchemy.engine.Engine [generated in 0.00151s] (3, 0)\n"
     ]
    },
    {
     "data": {
      "text/plain": [
       "[(1, 'user_0', 84, 1), (2, 'user_1', 75, 1), (3, 'user_2', 42, 0)]"
      ]
     },
     "execution_count": 18,
     "metadata": {},
     "output_type": "execute_result"
    }
   ],
   "source": [
    "core.query().select(rtab[:], limit=3).all()"
   ]
  },
  {
   "cell_type": "code",
   "execution_count": 19,
   "metadata": {},
   "outputs": [
    {
     "name": "stdout",
     "output_type": "stream",
     "text": [
      "2024-05-15 14:48:28,074 INFO sqlalchemy.engine.Engine BEGIN (implicit)\n",
      "2024-05-15 14:48:28,075 INFO sqlalchemy.engine.Engine SELECT \"Record\".id, \"Record\".name, \"Record\".age, \"Record\".is_old \n",
      "FROM \"Record\"\n",
      " LIMIT ? OFFSET ?\n",
      "2024-05-15 14:48:28,076 INFO sqlalchemy.engine.Engine [cached since 0.01282s ago] (3, 0)\n"
     ]
    },
    {
     "data": {
      "text/html": [
       "<div>\n",
       "<style scoped>\n",
       "    .dataframe tbody tr th:only-of-type {\n",
       "        vertical-align: middle;\n",
       "    }\n",
       "\n",
       "    .dataframe tbody tr th {\n",
       "        vertical-align: top;\n",
       "    }\n",
       "\n",
       "    .dataframe thead th {\n",
       "        text-align: right;\n",
       "    }\n",
       "</style>\n",
       "<table border=\"1\" class=\"dataframe\">\n",
       "  <thead>\n",
       "    <tr style=\"text-align: right;\">\n",
       "      <th></th>\n",
       "      <th>id</th>\n",
       "      <th>name</th>\n",
       "      <th>age</th>\n",
       "      <th>is_old</th>\n",
       "    </tr>\n",
       "  </thead>\n",
       "  <tbody>\n",
       "    <tr>\n",
       "      <th>0</th>\n",
       "      <td>1</td>\n",
       "      <td>user_0</td>\n",
       "      <td>84</td>\n",
       "      <td>1</td>\n",
       "    </tr>\n",
       "    <tr>\n",
       "      <th>1</th>\n",
       "      <td>2</td>\n",
       "      <td>user_1</td>\n",
       "      <td>75</td>\n",
       "      <td>1</td>\n",
       "    </tr>\n",
       "    <tr>\n",
       "      <th>2</th>\n",
       "      <td>3</td>\n",
       "      <td>user_2</td>\n",
       "      <td>42</td>\n",
       "      <td>0</td>\n",
       "    </tr>\n",
       "  </tbody>\n",
       "</table>\n",
       "</div>"
      ],
      "text/plain": [
       "   id    name  age  is_old\n",
       "0   1  user_0   84       1\n",
       "1   2  user_1   75       1\n",
       "2   3  user_2   42       0"
      ]
     },
     "execution_count": 19,
     "metadata": {},
     "output_type": "execute_result"
    }
   ],
   "source": [
    "core.query().select(rtab[:], limit=3).df()"
   ]
  },
  {
   "cell_type": "code",
   "execution_count": 20,
   "metadata": {},
   "outputs": [
    {
     "name": "stdout",
     "output_type": "stream",
     "text": [
      "2024-05-15 14:48:28,089 INFO sqlalchemy.engine.Engine BEGIN (implicit)\n",
      "2024-05-15 14:48:28,090 INFO sqlalchemy.engine.Engine SELECT \"Record\".id, \"Record\".name, \"Record\".age, \"Record\".is_old \n",
      "FROM \"Record\"\n",
      "2024-05-15 14:48:28,090 INFO sqlalchemy.engine.Engine [cached since 0.2191s ago] ()\n"
     ]
    },
    {
     "data": {
      "text/plain": [
       "(1, 'user_0', 84, 1)"
      ]
     },
     "execution_count": 20,
     "metadata": {},
     "output_type": "execute_result"
    }
   ],
   "source": [
    "core.query().select(rtab[:]).first()"
   ]
  },
  {
   "cell_type": "code",
   "execution_count": 21,
   "metadata": {},
   "outputs": [
    {
     "name": "stdout",
     "output_type": "stream",
     "text": [
      "2024-05-15 14:48:28,099 INFO sqlalchemy.engine.Engine BEGIN (implicit)\n",
      "2024-05-15 14:48:28,100 INFO sqlalchemy.engine.Engine SELECT \"Record\".id, \"Record\".name, \"Record\".age, \"Record\".is_old \n",
      "FROM \"Record\"\n",
      " LIMIT ? OFFSET ?\n",
      "2024-05-15 14:48:28,100 INFO sqlalchemy.engine.Engine [cached since 0.03746s ago] (1, 0)\n"
     ]
    },
    {
     "data": {
      "text/plain": [
       "(1, 'user_0', 84, 1)"
      ]
     },
     "execution_count": 21,
     "metadata": {},
     "output_type": "execute_result"
    }
   ],
   "source": [
    "# raises exception if more than one result is returned \n",
    "# (here I forced this with limit=1)\n",
    "core.query().select(rtab[:], limit=1).one()"
   ]
  },
  {
   "cell_type": "code",
   "execution_count": 22,
   "metadata": {},
   "outputs": [
    {
     "name": "stdout",
     "output_type": "stream",
     "text": [
      "2024-05-15 14:48:28,123 INFO sqlalchemy.engine.Engine BEGIN (implicit)\n",
      "2024-05-15 14:48:28,123 INFO sqlalchemy.engine.Engine SELECT \"Record\".id, \"Record\".name, \"Record\".age, \"Record\".is_old \n",
      "FROM \"Record\"\n",
      " LIMIT ? OFFSET ?\n",
      "2024-05-15 14:48:28,124 INFO sqlalchemy.engine.Engine [cached since 0.06108s ago] (1, 0)\n"
     ]
    },
    {
     "data": {
      "text/plain": [
       "1"
      ]
     },
     "execution_count": 22,
     "metadata": {},
     "output_type": "execute_result"
    }
   ],
   "source": [
    "# this returns the first column from the first row, then closes the cursor\n",
    "core.query().select(rtab[:], limit=1).scalar_one()"
   ]
  },
  {
   "cell_type": "code",
   "execution_count": 23,
   "metadata": {},
   "outputs": [
    {
     "name": "stdout",
     "output_type": "stream",
     "text": [
      "2024-05-15 14:48:28,141 INFO sqlalchemy.engine.Engine BEGIN (implicit)\n",
      "2024-05-15 14:48:28,142 INFO sqlalchemy.engine.Engine SELECT \"Record\".is_old \n",
      "FROM \"Record\"\n",
      " LIMIT ? OFFSET ?\n",
      "2024-05-15 14:48:28,142 INFO sqlalchemy.engine.Engine [generated in 0.00130s] (1, 0)\n"
     ]
    },
    {
     "data": {
      "text/plain": [
       "1"
      ]
     },
     "execution_count": 23,
     "metadata": {},
     "output_type": "execute_result"
    }
   ],
   "source": [
    "# it makes more sense to query a single column\n",
    "core.query().select(rtab['is_old',], limit=1).scalar_one()"
   ]
  },
  {
   "cell_type": "code",
   "execution_count": 24,
   "metadata": {},
   "outputs": [
    {
     "name": "stdout",
     "output_type": "stream",
     "text": [
      "2024-05-15 14:48:28,154 INFO sqlalchemy.engine.Engine BEGIN (implicit)\n",
      "2024-05-15 14:48:28,156 INFO sqlalchemy.engine.Engine SELECT \"Record\".is_old \n",
      "FROM \"Record\"\n",
      "2024-05-15 14:48:28,156 INFO sqlalchemy.engine.Engine [generated in 0.00177s] ()\n"
     ]
    },
    {
     "data": {
      "text/plain": [
       "[1, 1, 0, 0, 1, 0, 1, 0, 0, 1]"
      ]
     },
     "execution_count": 24,
     "metadata": {},
     "output_type": "execute_result"
    }
   ],
   "source": [
    "# and when when you need a single column, use .scalars() instead of .all()\n",
    "core.query().select(rtab['is_old',]).scalars().all()"
   ]
  },
  {
   "cell_type": "markdown",
   "metadata": {},
   "source": [
    "### Conditional Select Statements\n",
    "\n",
    "| operator | description |\n",
    "| --- | --- |\n",
    "| `&`, `doctable.exp.and_()` | and |\n",
    "| `\\|`, `doctable.exp.or_()` | or |\n",
    "| `==` | equals |\n",
    "| `!=`, `doctable.exp.not_()` | not equals |\n",
    "| `>` | greater than |\n",
    "| `>=` | greater than or equal to |\n",
    "| `<` | less than |\n",
    "| `<=` | less than or equal to |\n",
    "| `in_()` | in list |\n",
    "| `contains()` | check if item is substring |\n",
    "| `like()` | like string |\n",
    "| `ilike()` | case-insensitive like string |\n",
    "| `between()`, `doctable.exp.between()` | between two values |\n",
    "| `is_()` | is value |\n",
    "| `isnot()` | is not value |\n",
    "| `startswith()` | starts with string |"
   ]
  },
  {
   "cell_type": "code",
   "execution_count": 25,
   "metadata": {},
   "outputs": [
    {
     "name": "stdout",
     "output_type": "stream",
     "text": [
      "2024-05-15 14:48:28,167 INFO sqlalchemy.engine.Engine BEGIN (implicit)\n",
      "2024-05-15 14:48:28,168 INFO sqlalchemy.engine.Engine SELECT \"Record\".id, \"Record\".name, \"Record\".age, \"Record\".is_old \n",
      "FROM \"Record\" \n",
      "WHERE \"Record\".id = ?\n",
      "2024-05-15 14:48:28,169 INFO sqlalchemy.engine.Engine [generated in 0.00170s] (2,)\n"
     ]
    },
    {
     "data": {
      "text/html": [
       "<div>\n",
       "<style scoped>\n",
       "    .dataframe tbody tr th:only-of-type {\n",
       "        vertical-align: middle;\n",
       "    }\n",
       "\n",
       "    .dataframe tbody tr th {\n",
       "        vertical-align: top;\n",
       "    }\n",
       "\n",
       "    .dataframe thead th {\n",
       "        text-align: right;\n",
       "    }\n",
       "</style>\n",
       "<table border=\"1\" class=\"dataframe\">\n",
       "  <thead>\n",
       "    <tr style=\"text-align: right;\">\n",
       "      <th></th>\n",
       "      <th>id</th>\n",
       "      <th>name</th>\n",
       "      <th>age</th>\n",
       "      <th>is_old</th>\n",
       "    </tr>\n",
       "  </thead>\n",
       "  <tbody>\n",
       "    <tr>\n",
       "      <th>0</th>\n",
       "      <td>2</td>\n",
       "      <td>user_1</td>\n",
       "      <td>75</td>\n",
       "      <td>1</td>\n",
       "    </tr>\n",
       "  </tbody>\n",
       "</table>\n",
       "</div>"
      ],
      "text/plain": [
       "   id    name  age  is_old\n",
       "0   2  user_1   75       1"
      ]
     },
     "execution_count": 25,
     "metadata": {},
     "output_type": "execute_result"
    }
   ],
   "source": [
    "core.query().select(rtab[:], where=rtab['id']==2).df()"
   ]
  },
  {
   "cell_type": "code",
   "execution_count": 26,
   "metadata": {},
   "outputs": [
    {
     "name": "stdout",
     "output_type": "stream",
     "text": [
      "2024-05-15 14:48:28,184 INFO sqlalchemy.engine.Engine BEGIN (implicit)\n",
      "2024-05-15 14:48:28,185 INFO sqlalchemy.engine.Engine SELECT \"Record\".id, \"Record\".name, \"Record\".age, \"Record\".is_old \n",
      "FROM \"Record\" \n",
      "WHERE \"Record\".id < \"Record\".id\n",
      "2024-05-15 14:48:28,185 INFO sqlalchemy.engine.Engine [generated in 0.00140s] ()\n",
      "2024-05-15 14:48:28,187 INFO sqlalchemy.engine.Engine COMMIT\n"
     ]
    },
    {
     "data": {
      "text/html": [
       "<div>\n",
       "<style scoped>\n",
       "    .dataframe tbody tr th:only-of-type {\n",
       "        vertical-align: middle;\n",
       "    }\n",
       "\n",
       "    .dataframe tbody tr th {\n",
       "        vertical-align: top;\n",
       "    }\n",
       "\n",
       "    .dataframe thead th {\n",
       "        text-align: right;\n",
       "    }\n",
       "</style>\n",
       "<table border=\"1\" class=\"dataframe\">\n",
       "  <thead>\n",
       "    <tr style=\"text-align: right;\">\n",
       "      <th></th>\n",
       "    </tr>\n",
       "  </thead>\n",
       "  <tbody>\n",
       "  </tbody>\n",
       "</table>\n",
       "</div>"
      ],
      "text/plain": [
       "Empty DataFrame\n",
       "Columns: []\n",
       "Index: []"
      ]
     },
     "execution_count": 26,
     "metadata": {},
     "output_type": "execute_result"
    }
   ],
   "source": [
    "with rtab as t, core.query() as q:\n",
    "    df = q.select(t[:], where=t['id'] < t['id']).df()\n",
    "df"
   ]
  },
  {
   "cell_type": "code",
   "execution_count": 27,
   "metadata": {},
   "outputs": [
    {
     "name": "stdout",
     "output_type": "stream",
     "text": [
      "2024-05-15 14:48:28,199 INFO sqlalchemy.engine.Engine BEGIN (implicit)\n",
      "2024-05-15 14:48:28,200 INFO sqlalchemy.engine.Engine SELECT \"Record\".id, \"Record\".name, \"Record\".age, \"Record\".is_old \n",
      "FROM \"Record\" \n",
      "WHERE \"Record\".id % ? = ?\n",
      "2024-05-15 14:48:28,201 INFO sqlalchemy.engine.Engine [generated in 0.00135s] (2, 0)\n",
      "2024-05-15 14:48:28,202 INFO sqlalchemy.engine.Engine COMMIT\n"
     ]
    },
    {
     "data": {
      "text/html": [
       "<div>\n",
       "<style scoped>\n",
       "    .dataframe tbody tr th:only-of-type {\n",
       "        vertical-align: middle;\n",
       "    }\n",
       "\n",
       "    .dataframe tbody tr th {\n",
       "        vertical-align: top;\n",
       "    }\n",
       "\n",
       "    .dataframe thead th {\n",
       "        text-align: right;\n",
       "    }\n",
       "</style>\n",
       "<table border=\"1\" class=\"dataframe\">\n",
       "  <thead>\n",
       "    <tr style=\"text-align: right;\">\n",
       "      <th></th>\n",
       "      <th>id</th>\n",
       "      <th>name</th>\n",
       "      <th>age</th>\n",
       "      <th>is_old</th>\n",
       "    </tr>\n",
       "  </thead>\n",
       "  <tbody>\n",
       "    <tr>\n",
       "      <th>0</th>\n",
       "      <td>2</td>\n",
       "      <td>user_1</td>\n",
       "      <td>75</td>\n",
       "      <td>1</td>\n",
       "    </tr>\n",
       "    <tr>\n",
       "      <th>1</th>\n",
       "      <td>4</td>\n",
       "      <td>user_3</td>\n",
       "      <td>25</td>\n",
       "      <td>0</td>\n",
       "    </tr>\n",
       "    <tr>\n",
       "      <th>2</th>\n",
       "      <td>6</td>\n",
       "      <td>user_5</td>\n",
       "      <td>40</td>\n",
       "      <td>0</td>\n",
       "    </tr>\n",
       "    <tr>\n",
       "      <th>3</th>\n",
       "      <td>8</td>\n",
       "      <td>user_7</td>\n",
       "      <td>30</td>\n",
       "      <td>0</td>\n",
       "    </tr>\n",
       "    <tr>\n",
       "      <th>4</th>\n",
       "      <td>10</td>\n",
       "      <td>user_9</td>\n",
       "      <td>58</td>\n",
       "      <td>1</td>\n",
       "    </tr>\n",
       "  </tbody>\n",
       "</table>\n",
       "</div>"
      ],
      "text/plain": [
       "   id    name  age  is_old\n",
       "0   2  user_1   75       1\n",
       "1   4  user_3   25       0\n",
       "2   6  user_5   40       0\n",
       "3   8  user_7   30       0\n",
       "4  10  user_9   58       1"
      ]
     },
     "execution_count": 27,
     "metadata": {},
     "output_type": "execute_result"
    }
   ],
   "source": [
    "with rtab as t, core.query() as q:\n",
    "    df = q.select(t[:], where=(t['id'] % 2)==0).df()\n",
    "df"
   ]
  },
  {
   "cell_type": "code",
   "execution_count": 28,
   "metadata": {},
   "outputs": [
    {
     "name": "stdout",
     "output_type": "stream",
     "text": [
      "2024-05-15 14:48:28,218 INFO sqlalchemy.engine.Engine BEGIN (implicit)\n",
      "2024-05-15 14:48:28,219 INFO sqlalchemy.engine.Engine SELECT \"Record\".id, \"Record\".name, \"Record\".age, \"Record\".is_old \n",
      "FROM \"Record\" \n",
      "WHERE \"Record\".id >= ? AND \"Record\".id <= ? AND \"Record\".name != ?\n",
      "2024-05-15 14:48:28,220 INFO sqlalchemy.engine.Engine [generated in 0.00177s] (2, 4, 'user_2')\n",
      "2024-05-15 14:48:28,221 INFO sqlalchemy.engine.Engine COMMIT\n"
     ]
    },
    {
     "data": {
      "text/html": [
       "<div>\n",
       "<style scoped>\n",
       "    .dataframe tbody tr th:only-of-type {\n",
       "        vertical-align: middle;\n",
       "    }\n",
       "\n",
       "    .dataframe tbody tr th {\n",
       "        vertical-align: top;\n",
       "    }\n",
       "\n",
       "    .dataframe thead th {\n",
       "        text-align: right;\n",
       "    }\n",
       "</style>\n",
       "<table border=\"1\" class=\"dataframe\">\n",
       "  <thead>\n",
       "    <tr style=\"text-align: right;\">\n",
       "      <th></th>\n",
       "      <th>id</th>\n",
       "      <th>name</th>\n",
       "      <th>age</th>\n",
       "      <th>is_old</th>\n",
       "    </tr>\n",
       "  </thead>\n",
       "  <tbody>\n",
       "    <tr>\n",
       "      <th>0</th>\n",
       "      <td>2</td>\n",
       "      <td>user_1</td>\n",
       "      <td>75</td>\n",
       "      <td>1</td>\n",
       "    </tr>\n",
       "    <tr>\n",
       "      <th>1</th>\n",
       "      <td>4</td>\n",
       "      <td>user_3</td>\n",
       "      <td>25</td>\n",
       "      <td>0</td>\n",
       "    </tr>\n",
       "  </tbody>\n",
       "</table>\n",
       "</div>"
      ],
      "text/plain": [
       "   id    name  age  is_old\n",
       "0   2  user_1   75       1\n",
       "1   4  user_3   25       0"
      ]
     },
     "execution_count": 28,
     "metadata": {},
     "output_type": "execute_result"
    }
   ],
   "source": [
    "with rtab as t, core.query() as q:\n",
    "    condition = (t['id']>=2) & (t['id']<=4) & (t['name']!='user_2')\n",
    "    df = q.select(t[:], where=condition).df()\n",
    "df"
   ]
  },
  {
   "cell_type": "code",
   "execution_count": 29,
   "metadata": {},
   "outputs": [
    {
     "name": "stdout",
     "output_type": "stream",
     "text": [
      "2024-05-15 14:48:28,239 INFO sqlalchemy.engine.Engine BEGIN (implicit)\n",
      "2024-05-15 14:48:28,240 INFO sqlalchemy.engine.Engine SELECT \"Record\".id, \"Record\".name, \"Record\".age, \"Record\".is_old \n",
      "FROM \"Record\" \n",
      "WHERE \"Record\".name IN (?, ?)\n",
      "2024-05-15 14:48:28,240 INFO sqlalchemy.engine.Engine [generated in 0.00137s] ('user_2', 'user_3')\n",
      "2024-05-15 14:48:28,242 INFO sqlalchemy.engine.Engine COMMIT\n"
     ]
    },
    {
     "data": {
      "text/html": [
       "<div>\n",
       "<style scoped>\n",
       "    .dataframe tbody tr th:only-of-type {\n",
       "        vertical-align: middle;\n",
       "    }\n",
       "\n",
       "    .dataframe tbody tr th {\n",
       "        vertical-align: top;\n",
       "    }\n",
       "\n",
       "    .dataframe thead th {\n",
       "        text-align: right;\n",
       "    }\n",
       "</style>\n",
       "<table border=\"1\" class=\"dataframe\">\n",
       "  <thead>\n",
       "    <tr style=\"text-align: right;\">\n",
       "      <th></th>\n",
       "      <th>id</th>\n",
       "      <th>name</th>\n",
       "      <th>age</th>\n",
       "      <th>is_old</th>\n",
       "    </tr>\n",
       "  </thead>\n",
       "  <tbody>\n",
       "    <tr>\n",
       "      <th>0</th>\n",
       "      <td>3</td>\n",
       "      <td>user_2</td>\n",
       "      <td>42</td>\n",
       "      <td>0</td>\n",
       "    </tr>\n",
       "    <tr>\n",
       "      <th>1</th>\n",
       "      <td>4</td>\n",
       "      <td>user_3</td>\n",
       "      <td>25</td>\n",
       "      <td>0</td>\n",
       "    </tr>\n",
       "  </tbody>\n",
       "</table>\n",
       "</div>"
      ],
      "text/plain": [
       "   id    name  age  is_old\n",
       "0   3  user_2   42       0\n",
       "1   4  user_3   25       0"
      ]
     },
     "execution_count": 29,
     "metadata": {},
     "output_type": "execute_result"
    }
   ],
   "source": [
    "with rtab as t, core.query() as q:\n",
    "    condition = t['name'].in_(('user_2','user_3'))\n",
    "    df = q.select(t[:], where=condition).df()\n",
    "df"
   ]
  },
  {
   "cell_type": "code",
   "execution_count": 30,
   "metadata": {},
   "outputs": [
    {
     "name": "stdout",
     "output_type": "stream",
     "text": [
      "2024-05-15 14:48:28,256 INFO sqlalchemy.engine.Engine BEGIN (implicit)\n",
      "2024-05-15 14:48:28,257 INFO sqlalchemy.engine.Engine SELECT \"Record\".id, \"Record\".name, \"Record\".age, \"Record\".is_old \n",
      "FROM \"Record\" \n",
      "WHERE \"Record\".id BETWEEN ? AND ?\n",
      "2024-05-15 14:48:28,257 INFO sqlalchemy.engine.Engine [generated in 0.00143s] (2, 4)\n",
      "2024-05-15 14:48:28,259 INFO sqlalchemy.engine.Engine COMMIT\n"
     ]
    },
    {
     "data": {
      "text/html": [
       "<div>\n",
       "<style scoped>\n",
       "    .dataframe tbody tr th:only-of-type {\n",
       "        vertical-align: middle;\n",
       "    }\n",
       "\n",
       "    .dataframe tbody tr th {\n",
       "        vertical-align: top;\n",
       "    }\n",
       "\n",
       "    .dataframe thead th {\n",
       "        text-align: right;\n",
       "    }\n",
       "</style>\n",
       "<table border=\"1\" class=\"dataframe\">\n",
       "  <thead>\n",
       "    <tr style=\"text-align: right;\">\n",
       "      <th></th>\n",
       "      <th>id</th>\n",
       "      <th>name</th>\n",
       "      <th>age</th>\n",
       "      <th>is_old</th>\n",
       "    </tr>\n",
       "  </thead>\n",
       "  <tbody>\n",
       "    <tr>\n",
       "      <th>0</th>\n",
       "      <td>2</td>\n",
       "      <td>user_1</td>\n",
       "      <td>75</td>\n",
       "      <td>1</td>\n",
       "    </tr>\n",
       "    <tr>\n",
       "      <th>1</th>\n",
       "      <td>3</td>\n",
       "      <td>user_2</td>\n",
       "      <td>42</td>\n",
       "      <td>0</td>\n",
       "    </tr>\n",
       "    <tr>\n",
       "      <th>2</th>\n",
       "      <td>4</td>\n",
       "      <td>user_3</td>\n",
       "      <td>25</td>\n",
       "      <td>0</td>\n",
       "    </tr>\n",
       "  </tbody>\n",
       "</table>\n",
       "</div>"
      ],
      "text/plain": [
       "   id    name  age  is_old\n",
       "0   2  user_1   75       1\n",
       "1   3  user_2   42       0\n",
       "2   4  user_3   25       0"
      ]
     },
     "execution_count": 30,
     "metadata": {},
     "output_type": "execute_result"
    }
   ],
   "source": [
    "with rtab as t, core.query() as q:\n",
    "    df = q.select(t[:], where=t['id'].between(2,4)).df()\n",
    "df"
   ]
  },
  {
   "cell_type": "code",
   "execution_count": 31,
   "metadata": {},
   "outputs": [
    {
     "name": "stdout",
     "output_type": "stream",
     "text": [
      "2024-05-15 14:48:28,276 INFO sqlalchemy.engine.Engine BEGIN (implicit)\n",
      "2024-05-15 14:48:28,276 INFO sqlalchemy.engine.Engine SELECT \"Record\".id, \"Record\".name, \"Record\".age, \"Record\".is_old \n",
      "FROM \"Record\" \n",
      "WHERE (\"Record\".name NOT IN (?, ?)) AND \"Record\".id < ?\n",
      "2024-05-15 14:48:28,277 INFO sqlalchemy.engine.Engine [generated in 0.00143s] ('user_2', 'user_3', 4)\n",
      "2024-05-15 14:48:28,279 INFO sqlalchemy.engine.Engine COMMIT\n"
     ]
    },
    {
     "data": {
      "text/html": [
       "<div>\n",
       "<style scoped>\n",
       "    .dataframe tbody tr th:only-of-type {\n",
       "        vertical-align: middle;\n",
       "    }\n",
       "\n",
       "    .dataframe tbody tr th {\n",
       "        vertical-align: top;\n",
       "    }\n",
       "\n",
       "    .dataframe thead th {\n",
       "        text-align: right;\n",
       "    }\n",
       "</style>\n",
       "<table border=\"1\" class=\"dataframe\">\n",
       "  <thead>\n",
       "    <tr style=\"text-align: right;\">\n",
       "      <th></th>\n",
       "      <th>id</th>\n",
       "      <th>name</th>\n",
       "      <th>age</th>\n",
       "      <th>is_old</th>\n",
       "    </tr>\n",
       "  </thead>\n",
       "  <tbody>\n",
       "    <tr>\n",
       "      <th>0</th>\n",
       "      <td>1</td>\n",
       "      <td>user_0</td>\n",
       "      <td>84</td>\n",
       "      <td>1</td>\n",
       "    </tr>\n",
       "    <tr>\n",
       "      <th>1</th>\n",
       "      <td>2</td>\n",
       "      <td>user_1</td>\n",
       "      <td>75</td>\n",
       "      <td>1</td>\n",
       "    </tr>\n",
       "  </tbody>\n",
       "</table>\n",
       "</div>"
      ],
      "text/plain": [
       "   id    name  age  is_old\n",
       "0   1  user_0   84       1\n",
       "1   2  user_1   75       1"
      ]
     },
     "execution_count": 31,
     "metadata": {},
     "output_type": "execute_result"
    }
   ],
   "source": [
    "with rtab as t, core.query() as q:\n",
    "    condition = ~(t['name'].in_(('user_2','user_3'))) & (t['id'] < 4)\n",
    "    df = q.select(t[:], where=condition).df()\n",
    "df"
   ]
  },
  {
   "cell_type": "code",
   "execution_count": 32,
   "metadata": {},
   "outputs": [
    {
     "name": "stdout",
     "output_type": "stream",
     "text": [
      "2024-05-15 14:48:28,292 INFO sqlalchemy.engine.Engine BEGIN (implicit)\n",
      "2024-05-15 14:48:28,293 INFO sqlalchemy.engine.Engine SELECT \"Record\".id, \"Record\".name, \"Record\".age, \"Record\".is_old \n",
      "FROM \"Record\" \n",
      "WHERE \"Record\".id != ? AND \"Record\".id <= ?\n",
      "2024-05-15 14:48:28,294 INFO sqlalchemy.engine.Engine [generated in 0.00146s] (4, 2)\n",
      "2024-05-15 14:48:28,295 INFO sqlalchemy.engine.Engine COMMIT\n"
     ]
    },
    {
     "data": {
      "text/html": [
       "<div>\n",
       "<style scoped>\n",
       "    .dataframe tbody tr th:only-of-type {\n",
       "        vertical-align: middle;\n",
       "    }\n",
       "\n",
       "    .dataframe tbody tr th {\n",
       "        vertical-align: top;\n",
       "    }\n",
       "\n",
       "    .dataframe thead th {\n",
       "        text-align: right;\n",
       "    }\n",
       "</style>\n",
       "<table border=\"1\" class=\"dataframe\">\n",
       "  <thead>\n",
       "    <tr style=\"text-align: right;\">\n",
       "      <th></th>\n",
       "      <th>id</th>\n",
       "      <th>name</th>\n",
       "      <th>age</th>\n",
       "      <th>is_old</th>\n",
       "    </tr>\n",
       "  </thead>\n",
       "  <tbody>\n",
       "    <tr>\n",
       "      <th>0</th>\n",
       "      <td>1</td>\n",
       "      <td>user_0</td>\n",
       "      <td>84</td>\n",
       "      <td>1</td>\n",
       "    </tr>\n",
       "    <tr>\n",
       "      <th>1</th>\n",
       "      <td>2</td>\n",
       "      <td>user_1</td>\n",
       "      <td>75</td>\n",
       "      <td>1</td>\n",
       "    </tr>\n",
       "  </tbody>\n",
       "</table>\n",
       "</div>"
      ],
      "text/plain": [
       "   id    name  age  is_old\n",
       "0   1  user_0   84       1\n",
       "1   2  user_1   75       1"
      ]
     },
     "execution_count": 32,
     "metadata": {},
     "output_type": "execute_result"
    }
   ],
   "source": [
    "with rtab as t, core.query() as q:\n",
    "    condition = doctable.exp.or_(doctable.exp.not_(t['id']==4)) & (t['id'] <= 2)\n",
    "    df = q.select(t[:], where=condition).df()\n",
    "df"
   ]
  },
  {
   "cell_type": "code",
   "execution_count": 33,
   "metadata": {},
   "outputs": [
    {
     "name": "stdout",
     "output_type": "stream",
     "text": [
      "2024-05-15 14:48:28,308 INFO sqlalchemy.engine.Engine BEGIN (implicit)\n",
      "2024-05-15 14:48:28,309 INFO sqlalchemy.engine.Engine SELECT \"Record\".age \n",
      "FROM \"Record\"\n",
      "2024-05-15 14:48:28,309 INFO sqlalchemy.engine.Engine [generated in 0.00141s] ()\n",
      "2024-05-15 14:48:28,311 INFO sqlalchemy.engine.Engine SELECT \"Record\".id, \"Record\".name, \"Record\".age, \"Record\".is_old \n",
      "FROM \"Record\" \n",
      "WHERE \"Record\".age > ?\n",
      "2024-05-15 14:48:28,311 INFO sqlalchemy.engine.Engine [generated in 0.00056s] (53.0,)\n",
      "2024-05-15 14:48:28,312 INFO sqlalchemy.engine.Engine COMMIT\n"
     ]
    },
    {
     "data": {
      "text/html": [
       "<div>\n",
       "<style scoped>\n",
       "    .dataframe tbody tr th:only-of-type {\n",
       "        vertical-align: middle;\n",
       "    }\n",
       "\n",
       "    .dataframe tbody tr th {\n",
       "        vertical-align: top;\n",
       "    }\n",
       "\n",
       "    .dataframe thead th {\n",
       "        text-align: right;\n",
       "    }\n",
       "</style>\n",
       "<table border=\"1\" class=\"dataframe\">\n",
       "  <thead>\n",
       "    <tr style=\"text-align: right;\">\n",
       "      <th></th>\n",
       "      <th>id</th>\n",
       "      <th>name</th>\n",
       "      <th>age</th>\n",
       "      <th>is_old</th>\n",
       "    </tr>\n",
       "  </thead>\n",
       "  <tbody>\n",
       "    <tr>\n",
       "      <th>0</th>\n",
       "      <td>1</td>\n",
       "      <td>user_0</td>\n",
       "      <td>84</td>\n",
       "      <td>1</td>\n",
       "    </tr>\n",
       "    <tr>\n",
       "      <th>1</th>\n",
       "      <td>2</td>\n",
       "      <td>user_1</td>\n",
       "      <td>75</td>\n",
       "      <td>1</td>\n",
       "    </tr>\n",
       "    <tr>\n",
       "      <th>2</th>\n",
       "      <td>7</td>\n",
       "      <td>user_6</td>\n",
       "      <td>78</td>\n",
       "      <td>1</td>\n",
       "    </tr>\n",
       "    <tr>\n",
       "      <th>3</th>\n",
       "      <td>10</td>\n",
       "      <td>user_9</td>\n",
       "      <td>58</td>\n",
       "      <td>1</td>\n",
       "    </tr>\n",
       "  </tbody>\n",
       "</table>\n",
       "</div>"
      ],
      "text/plain": [
       "   id    name  age  is_old\n",
       "0   1  user_0   84       1\n",
       "1   2  user_1   75       1\n",
       "2   7  user_6   78       1\n",
       "3  10  user_9   58       1"
      ]
     },
     "execution_count": 33,
     "metadata": {},
     "output_type": "execute_result"
    }
   ],
   "source": [
    "with rtab as t, core.query() as q:\n",
    "    ages = q.select([t['age']]).scalars().all()\n",
    "    mean_age = sum(ages)/len(ages)\n",
    "    result = q.select(t[:], where=t['age']>mean_age)\n",
    "result.df()"
   ]
  },
  {
   "cell_type": "markdown",
   "metadata": {},
   "source": [
    "### Column Operators\n",
    "\n",
    "In addition to any of the methods used for conditional selects, there are several additional methods that can be used to transform columns in the select statement.\n",
    "\n",
    "| Method | Description |\n",
    "| --- | --- |\n",
    "| `.label()` | rename column in result (particularly useful after transformations) |\n",
    "| `.min()`, `doctable.f.min()` | max of column values |\n",
    "| `.max()`, `doctable.f.max()` | max of column values |\n",
    "| `.sum()`, `doctable.f.sum()` | sum of column |\n",
    "| `.count()`, `doctable.f.count()` | count number of results. *NOTE*: must use `f.count()` when counting transformed columns. |\n",
    "| `.distinct()`, `doctable.f.distinct()` | get distinct values |\n",
    "| `/` | divide |\n",
    "| `*` | multiply |\n",
    "| `+` | add |\n",
    "| `-` | subtract |\n",
    "| `%` | modulo |\n",
    "| `.concat()` | concatenate strings |"
   ]
  },
  {
   "cell_type": "code",
   "execution_count": 34,
   "metadata": {},
   "outputs": [
    {
     "name": "stdout",
     "output_type": "stream",
     "text": [
      "2024-05-15 14:48:28,336 INFO sqlalchemy.engine.Engine BEGIN (implicit)\n",
      "2024-05-15 14:48:28,337 INFO sqlalchemy.engine.Engine SELECT \"Record\".id % ? AS mod_id, \"Record\".name AS myname \n",
      "FROM \"Record\" \n",
      "WHERE \"Record\".is_old\n",
      "2024-05-15 14:48:28,337 INFO sqlalchemy.engine.Engine [generated in 0.00175s] (2,)\n"
     ]
    },
    {
     "data": {
      "text/html": [
       "<div>\n",
       "<style scoped>\n",
       "    .dataframe tbody tr th:only-of-type {\n",
       "        vertical-align: middle;\n",
       "    }\n",
       "\n",
       "    .dataframe tbody tr th {\n",
       "        vertical-align: top;\n",
       "    }\n",
       "\n",
       "    .dataframe thead th {\n",
       "        text-align: right;\n",
       "    }\n",
       "</style>\n",
       "<table border=\"1\" class=\"dataframe\">\n",
       "  <thead>\n",
       "    <tr style=\"text-align: right;\">\n",
       "      <th></th>\n",
       "      <th>mod_id</th>\n",
       "      <th>myname</th>\n",
       "    </tr>\n",
       "  </thead>\n",
       "  <tbody>\n",
       "    <tr>\n",
       "      <th>0</th>\n",
       "      <td>1</td>\n",
       "      <td>user_0</td>\n",
       "    </tr>\n",
       "    <tr>\n",
       "      <th>1</th>\n",
       "      <td>0</td>\n",
       "      <td>user_1</td>\n",
       "    </tr>\n",
       "    <tr>\n",
       "      <th>2</th>\n",
       "      <td>1</td>\n",
       "      <td>user_4</td>\n",
       "    </tr>\n",
       "    <tr>\n",
       "      <th>3</th>\n",
       "      <td>1</td>\n",
       "      <td>user_6</td>\n",
       "    </tr>\n",
       "    <tr>\n",
       "      <th>4</th>\n",
       "      <td>0</td>\n",
       "      <td>user_9</td>\n",
       "    </tr>\n",
       "  </tbody>\n",
       "</table>\n",
       "</div>"
      ],
      "text/plain": [
       "   mod_id  myname\n",
       "0       1  user_0\n",
       "1       0  user_1\n",
       "2       1  user_4\n",
       "3       1  user_6\n",
       "4       0  user_9"
      ]
     },
     "execution_count": 34,
     "metadata": {},
     "output_type": "execute_result"
    }
   ],
   "source": [
    "columns = [\n",
    "    (rtab['id'] % 2).label('mod_id'), \n",
    "    rtab['name'].label('myname')\n",
    "]\n",
    "core.query().select(columns, where=rtab['is_old']).df()"
   ]
  },
  {
   "cell_type": "code",
   "execution_count": 35,
   "metadata": {},
   "outputs": [
    {
     "name": "stdout",
     "output_type": "stream",
     "text": [
      "2024-05-15 14:48:28,350 INFO sqlalchemy.engine.Engine BEGIN (implicit)\n",
      "2024-05-15 14:48:28,351 INFO sqlalchemy.engine.Engine SELECT sum(\"Record\".age) / (count(\"Record\".age) + 0.0) AS anon_1 \n",
      "FROM \"Record\"\n",
      "2024-05-15 14:48:28,352 INFO sqlalchemy.engine.Engine [generated in 0.00172s] ()\n"
     ]
    },
    {
     "data": {
      "text/plain": [
       "Decimal('53.0000000000')"
      ]
     },
     "execution_count": 35,
     "metadata": {},
     "output_type": "execute_result"
    }
   ],
   "source": [
    "formula = rtab['age'].sum() / rtab['age'].count()\n",
    "core.query().select([formula]).scalar_one()"
   ]
  },
  {
   "cell_type": "code",
   "execution_count": 36,
   "metadata": {},
   "outputs": [
    {
     "name": "stdout",
     "output_type": "stream",
     "text": [
      "2024-05-15 14:48:28,362 INFO sqlalchemy.engine.Engine BEGIN (implicit)\n",
      "2024-05-15 14:48:28,364 INFO sqlalchemy.engine.Engine SELECT max(\"Record\".age) - min(\"Record\".age) AS anon_1 \n",
      "FROM \"Record\"\n",
      "2024-05-15 14:48:28,364 INFO sqlalchemy.engine.Engine [generated in 0.00165s] ()\n"
     ]
    },
    {
     "data": {
      "text/plain": [
       "59"
      ]
     },
     "execution_count": 36,
     "metadata": {},
     "output_type": "execute_result"
    }
   ],
   "source": [
    "formula = rtab['age'].max() - rtab['age'].min()\n",
    "core.query().select([formula]).scalar_one()"
   ]
  },
  {
   "cell_type": "code",
   "execution_count": 37,
   "metadata": {},
   "outputs": [
    {
     "name": "stdout",
     "output_type": "stream",
     "text": [
      "2024-05-15 14:48:28,375 INFO sqlalchemy.engine.Engine BEGIN (implicit)\n",
      "2024-05-15 14:48:28,376 INFO sqlalchemy.engine.Engine SELECT sum(\"Record\".age) / (count(\"Record\".age) + 0.0) AS anon_1 \n",
      "FROM \"Record\" \n",
      "WHERE \"Record\".age > ?\n",
      "2024-05-15 14:48:28,376 INFO sqlalchemy.engine.Engine [generated in 0.00117s] (30,)\n"
     ]
    },
    {
     "data": {
      "text/plain": [
       "Decimal('59.3750000000')"
      ]
     },
     "execution_count": 37,
     "metadata": {},
     "output_type": "execute_result"
    }
   ],
   "source": [
    "# average age of individuals over 30\n",
    "formula = rtab['age'].sum() / rtab['age'].count()\n",
    "condition = rtab['age'] > 30\n",
    "core.query().select([formula], where=condition).scalar_one()"
   ]
  },
  {
   "cell_type": "code",
   "execution_count": 38,
   "metadata": {},
   "outputs": [
    {
     "name": "stdout",
     "output_type": "stream",
     "text": [
      "2024-05-15 14:48:28,387 INFO sqlalchemy.engine.Engine BEGIN (implicit)\n",
      "2024-05-15 14:48:28,388 INFO sqlalchemy.engine.Engine SELECT sum(\"Record\".age) / (count(\"Record\".age) + 0.0) AS mean, max(\"Record\".age) AS max, min(\"Record\".age) AS min \n",
      "FROM \"Record\" \n",
      "WHERE \"Record\".age > ?\n",
      "2024-05-15 14:48:28,388 INFO sqlalchemy.engine.Engine [generated in 0.00176s] (30,)\n"
     ]
    },
    {
     "data": {
      "text/html": [
       "<div>\n",
       "<style scoped>\n",
       "    .dataframe tbody tr th:only-of-type {\n",
       "        vertical-align: middle;\n",
       "    }\n",
       "\n",
       "    .dataframe tbody tr th {\n",
       "        vertical-align: top;\n",
       "    }\n",
       "\n",
       "    .dataframe thead th {\n",
       "        text-align: right;\n",
       "    }\n",
       "</style>\n",
       "<table border=\"1\" class=\"dataframe\">\n",
       "  <thead>\n",
       "    <tr style=\"text-align: right;\">\n",
       "      <th></th>\n",
       "      <th>mean</th>\n",
       "      <th>max</th>\n",
       "      <th>min</th>\n",
       "    </tr>\n",
       "  </thead>\n",
       "  <tbody>\n",
       "    <tr>\n",
       "      <th>0</th>\n",
       "      <td>59.3750000000</td>\n",
       "      <td>84</td>\n",
       "      <td>40</td>\n",
       "    </tr>\n",
       "  </tbody>\n",
       "</table>\n",
       "</div>"
      ],
      "text/plain": [
       "            mean  max  min\n",
       "0  59.3750000000   84   40"
      ]
     },
     "execution_count": 38,
     "metadata": {},
     "output_type": "execute_result"
    }
   ],
   "source": [
    "# descriptive stats on age of individuals over 30\n",
    "columns = [\n",
    "    (rtab['age'].sum() / rtab['age'].count()).label('mean'),\n",
    "    rtab['age'].max().label('max'),\n",
    "    rtab['age'].min().label('min'),\n",
    "]\n",
    "condition = rtab['age'] > 30\n",
    "core.query().select(columns, where=condition).df()"
   ]
  },
  {
   "cell_type": "code",
   "execution_count": 39,
   "metadata": {},
   "outputs": [
    {
     "name": "stdout",
     "output_type": "stream",
     "text": [
      "2024-05-15 14:48:28,405 INFO sqlalchemy.engine.Engine BEGIN (implicit)\n",
      "2024-05-15 14:48:28,406 INFO sqlalchemy.engine.Engine SELECT distinct(\"Record\".is_old) AS distinct_1 \n",
      "FROM \"Record\"\n",
      "2024-05-15 14:48:28,407 INFO sqlalchemy.engine.Engine [generated in 0.00157s] ()\n"
     ]
    },
    {
     "data": {
      "text/html": [
       "<div>\n",
       "<style scoped>\n",
       "    .dataframe tbody tr th:only-of-type {\n",
       "        vertical-align: middle;\n",
       "    }\n",
       "\n",
       "    .dataframe tbody tr th {\n",
       "        vertical-align: top;\n",
       "    }\n",
       "\n",
       "    .dataframe thead th {\n",
       "        text-align: right;\n",
       "    }\n",
       "</style>\n",
       "<table border=\"1\" class=\"dataframe\">\n",
       "  <thead>\n",
       "    <tr style=\"text-align: right;\">\n",
       "      <th></th>\n",
       "      <th>distinct_1</th>\n",
       "    </tr>\n",
       "  </thead>\n",
       "  <tbody>\n",
       "    <tr>\n",
       "      <th>0</th>\n",
       "      <td>1</td>\n",
       "    </tr>\n",
       "    <tr>\n",
       "      <th>1</th>\n",
       "      <td>0</td>\n",
       "    </tr>\n",
       "  </tbody>\n",
       "</table>\n",
       "</div>"
      ],
      "text/plain": [
       "   distinct_1\n",
       "0           1\n",
       "1           0"
      ]
     },
     "execution_count": 39,
     "metadata": {},
     "output_type": "execute_result"
    }
   ],
   "source": [
    "# all distinct values\n",
    "formula = rtab['is_old'].distinct()\n",
    "core.query().select([formula]).df()"
   ]
  },
  {
   "cell_type": "code",
   "execution_count": 40,
   "metadata": {},
   "outputs": [
    {
     "name": "stdout",
     "output_type": "stream",
     "text": [
      "2024-05-15 14:48:28,419 INFO sqlalchemy.engine.Engine BEGIN (implicit)\n",
      "2024-05-15 14:48:28,419 INFO sqlalchemy.engine.Engine SELECT count(*) AS count_1 \n",
      "FROM \"Record\" \n",
      "WHERE \"Record\".age > ?\n",
      "2024-05-15 14:48:28,420 INFO sqlalchemy.engine.Engine [generated in 0.00125s] (30,)\n"
     ]
    },
    {
     "data": {
      "text/plain": [
       "8"
      ]
     },
     "execution_count": 40,
     "metadata": {},
     "output_type": "execute_result"
    }
   ],
   "source": [
    "# count individuals over 30\n",
    "core.query().select([doctable.f.count()], where=rtab['age']>30).scalar_one()"
   ]
  },
  {
   "cell_type": "code",
   "execution_count": 41,
   "metadata": {},
   "outputs": [
    {
     "name": "stdout",
     "output_type": "stream",
     "text": [
      "2024-05-15 14:48:28,434 INFO sqlalchemy.engine.Engine BEGIN (implicit)\n",
      "2024-05-15 14:48:28,435 INFO sqlalchemy.engine.Engine SELECT count(\"Record\".id) AS count_1 \n",
      "FROM \"Record\" \n",
      "WHERE \"Record\".age > ?\n",
      "2024-05-15 14:48:28,435 INFO sqlalchemy.engine.Engine [generated in 0.00151s] (30,)\n"
     ]
    },
    {
     "data": {
      "text/plain": [
       "8"
      ]
     },
     "execution_count": 41,
     "metadata": {},
     "output_type": "execute_result"
    }
   ],
   "source": [
    "# similar to previous\n",
    "core.query().select([rtab['id'].count()], where=rtab['age']>30).scalar_one()"
   ]
  },
  {
   "cell_type": "markdown",
   "metadata": {},
   "source": [
    "### Additional Parameters: Order By, Group By, Limit, Offset\n",
    "\n",
    "More complicated queries involving ordering, grouping, limiting, and specifying offset can be specified using parameters to the `.select()` method.\n",
    "\n",
    "| Parameter | Description |\n",
    "| --- | --- |\n",
    "| `limit` | limit number of results |\n",
    "| `order_by` | list of columns to order by |\n",
    "| `group_by` | list of columns to group by |\n",
    "| `offset` | offset results by specified number |\n",
    "\n",
    "#### Order By and Limits"
   ]
  },
  {
   "cell_type": "code",
   "execution_count": 42,
   "metadata": {},
   "outputs": [
    {
     "name": "stdout",
     "output_type": "stream",
     "text": [
      "2024-05-15 14:48:28,445 INFO sqlalchemy.engine.Engine BEGIN (implicit)\n",
      "2024-05-15 14:48:28,446 INFO sqlalchemy.engine.Engine SELECT \"Record\".id, \"Record\".name, \"Record\".age, \"Record\".is_old \n",
      "FROM \"Record\" ORDER BY \"Record\".age\n",
      " LIMIT ? OFFSET ?\n",
      "2024-05-15 14:48:28,446 INFO sqlalchemy.engine.Engine [generated in 0.00137s] (5, 0)\n"
     ]
    },
    {
     "data": {
      "text/html": [
       "<div>\n",
       "<style scoped>\n",
       "    .dataframe tbody tr th:only-of-type {\n",
       "        vertical-align: middle;\n",
       "    }\n",
       "\n",
       "    .dataframe tbody tr th {\n",
       "        vertical-align: top;\n",
       "    }\n",
       "\n",
       "    .dataframe thead th {\n",
       "        text-align: right;\n",
       "    }\n",
       "</style>\n",
       "<table border=\"1\" class=\"dataframe\">\n",
       "  <thead>\n",
       "    <tr style=\"text-align: right;\">\n",
       "      <th></th>\n",
       "      <th>id</th>\n",
       "      <th>name</th>\n",
       "      <th>age</th>\n",
       "      <th>is_old</th>\n",
       "    </tr>\n",
       "  </thead>\n",
       "  <tbody>\n",
       "    <tr>\n",
       "      <th>0</th>\n",
       "      <td>4</td>\n",
       "      <td>user_3</td>\n",
       "      <td>25</td>\n",
       "      <td>0</td>\n",
       "    </tr>\n",
       "    <tr>\n",
       "      <th>1</th>\n",
       "      <td>8</td>\n",
       "      <td>user_7</td>\n",
       "      <td>30</td>\n",
       "      <td>0</td>\n",
       "    </tr>\n",
       "    <tr>\n",
       "      <th>2</th>\n",
       "      <td>6</td>\n",
       "      <td>user_5</td>\n",
       "      <td>40</td>\n",
       "      <td>0</td>\n",
       "    </tr>\n",
       "    <tr>\n",
       "      <th>3</th>\n",
       "      <td>3</td>\n",
       "      <td>user_2</td>\n",
       "      <td>42</td>\n",
       "      <td>0</td>\n",
       "    </tr>\n",
       "    <tr>\n",
       "      <th>4</th>\n",
       "      <td>9</td>\n",
       "      <td>user_8</td>\n",
       "      <td>47</td>\n",
       "      <td>0</td>\n",
       "    </tr>\n",
       "  </tbody>\n",
       "</table>\n",
       "</div>"
      ],
      "text/plain": [
       "   id    name  age  is_old\n",
       "0   4  user_3   25       0\n",
       "1   8  user_7   30       0\n",
       "2   6  user_5   40       0\n",
       "3   3  user_2   42       0\n",
       "4   9  user_8   47       0"
      ]
     },
     "execution_count": 42,
     "metadata": {},
     "output_type": "execute_result"
    }
   ],
   "source": [
    "# get the five youngest individuals in order\n",
    "core.query().select(rtab[:], order_by=rtab['age'], limit=5).df()"
   ]
  },
  {
   "cell_type": "code",
   "execution_count": 43,
   "metadata": {},
   "outputs": [
    {
     "name": "stdout",
     "output_type": "stream",
     "text": [
      "2024-05-15 14:48:28,460 INFO sqlalchemy.engine.Engine BEGIN (implicit)\n",
      "2024-05-15 14:48:28,461 INFO sqlalchemy.engine.Engine SELECT \"Record\".id, \"Record\".name, \"Record\".age, \"Record\".is_old \n",
      "FROM \"Record\" ORDER BY \"Record\".age DESC\n",
      " LIMIT ? OFFSET ?\n",
      "2024-05-15 14:48:28,462 INFO sqlalchemy.engine.Engine [generated in 0.00170s] (5, 0)\n"
     ]
    },
    {
     "data": {
      "text/html": [
       "<div>\n",
       "<style scoped>\n",
       "    .dataframe tbody tr th:only-of-type {\n",
       "        vertical-align: middle;\n",
       "    }\n",
       "\n",
       "    .dataframe tbody tr th {\n",
       "        vertical-align: top;\n",
       "    }\n",
       "\n",
       "    .dataframe thead th {\n",
       "        text-align: right;\n",
       "    }\n",
       "</style>\n",
       "<table border=\"1\" class=\"dataframe\">\n",
       "  <thead>\n",
       "    <tr style=\"text-align: right;\">\n",
       "      <th></th>\n",
       "      <th>id</th>\n",
       "      <th>name</th>\n",
       "      <th>age</th>\n",
       "      <th>is_old</th>\n",
       "    </tr>\n",
       "  </thead>\n",
       "  <tbody>\n",
       "    <tr>\n",
       "      <th>0</th>\n",
       "      <td>1</td>\n",
       "      <td>user_0</td>\n",
       "      <td>84</td>\n",
       "      <td>1</td>\n",
       "    </tr>\n",
       "    <tr>\n",
       "      <th>1</th>\n",
       "      <td>7</td>\n",
       "      <td>user_6</td>\n",
       "      <td>78</td>\n",
       "      <td>1</td>\n",
       "    </tr>\n",
       "    <tr>\n",
       "      <th>2</th>\n",
       "      <td>2</td>\n",
       "      <td>user_1</td>\n",
       "      <td>75</td>\n",
       "      <td>1</td>\n",
       "    </tr>\n",
       "    <tr>\n",
       "      <th>3</th>\n",
       "      <td>10</td>\n",
       "      <td>user_9</td>\n",
       "      <td>58</td>\n",
       "      <td>1</td>\n",
       "    </tr>\n",
       "    <tr>\n",
       "      <th>4</th>\n",
       "      <td>5</td>\n",
       "      <td>user_4</td>\n",
       "      <td>51</td>\n",
       "      <td>1</td>\n",
       "    </tr>\n",
       "  </tbody>\n",
       "</table>\n",
       "</div>"
      ],
      "text/plain": [
       "   id    name  age  is_old\n",
       "0   1  user_0   84       1\n",
       "1   7  user_6   78       1\n",
       "2   2  user_1   75       1\n",
       "3  10  user_9   58       1\n",
       "4   5  user_4   51       1"
      ]
     },
     "execution_count": 43,
     "metadata": {},
     "output_type": "execute_result"
    }
   ],
   "source": [
    "# get the five oldest now\n",
    "core.query().select(rtab.all_cols(), order_by=rtab['age'].desc(), limit=5).df()"
   ]
  },
  {
   "cell_type": "code",
   "execution_count": 44,
   "metadata": {},
   "outputs": [
    {
     "name": "stdout",
     "output_type": "stream",
     "text": [
      "2024-05-15 14:48:28,475 INFO sqlalchemy.engine.Engine BEGIN (implicit)\n",
      "2024-05-15 14:48:28,476 INFO sqlalchemy.engine.Engine SELECT \"Record\".id, \"Record\".name, \"Record\".age, \"Record\".is_old \n",
      "FROM \"Record\" ORDER BY \"Record\".is_old DESC, \"Record\".id ASC\n",
      " LIMIT ? OFFSET ?\n",
      "2024-05-15 14:48:28,476 INFO sqlalchemy.engine.Engine [generated in 0.00129s] (5, 0)\n"
     ]
    },
    {
     "data": {
      "text/html": [
       "<div>\n",
       "<style scoped>\n",
       "    .dataframe tbody tr th:only-of-type {\n",
       "        vertical-align: middle;\n",
       "    }\n",
       "\n",
       "    .dataframe tbody tr th {\n",
       "        vertical-align: top;\n",
       "    }\n",
       "\n",
       "    .dataframe thead th {\n",
       "        text-align: right;\n",
       "    }\n",
       "</style>\n",
       "<table border=\"1\" class=\"dataframe\">\n",
       "  <thead>\n",
       "    <tr style=\"text-align: right;\">\n",
       "      <th></th>\n",
       "      <th>id</th>\n",
       "      <th>name</th>\n",
       "      <th>age</th>\n",
       "      <th>is_old</th>\n",
       "    </tr>\n",
       "  </thead>\n",
       "  <tbody>\n",
       "    <tr>\n",
       "      <th>0</th>\n",
       "      <td>1</td>\n",
       "      <td>user_0</td>\n",
       "      <td>84</td>\n",
       "      <td>1</td>\n",
       "    </tr>\n",
       "    <tr>\n",
       "      <th>1</th>\n",
       "      <td>2</td>\n",
       "      <td>user_1</td>\n",
       "      <td>75</td>\n",
       "      <td>1</td>\n",
       "    </tr>\n",
       "    <tr>\n",
       "      <th>2</th>\n",
       "      <td>5</td>\n",
       "      <td>user_4</td>\n",
       "      <td>51</td>\n",
       "      <td>1</td>\n",
       "    </tr>\n",
       "    <tr>\n",
       "      <th>3</th>\n",
       "      <td>7</td>\n",
       "      <td>user_6</td>\n",
       "      <td>78</td>\n",
       "      <td>1</td>\n",
       "    </tr>\n",
       "    <tr>\n",
       "      <th>4</th>\n",
       "      <td>10</td>\n",
       "      <td>user_9</td>\n",
       "      <td>58</td>\n",
       "      <td>1</td>\n",
       "    </tr>\n",
       "  </tbody>\n",
       "</table>\n",
       "</div>"
      ],
      "text/plain": [
       "   id    name  age  is_old\n",
       "0   1  user_0   84       1\n",
       "1   2  user_1   75       1\n",
       "2   5  user_4   51       1\n",
       "3   7  user_6   78       1\n",
       "4  10  user_9   58       1"
      ]
     },
     "execution_count": 44,
     "metadata": {},
     "output_type": "execute_result"
    }
   ],
   "source": [
    "# order by is_old, but preserve order of id otherwise\n",
    "order = [\n",
    "    rtab['is_old'].desc(),\n",
    "    rtab['id'].asc(),\n",
    "]\n",
    "core.query().select(rtab[:], order_by=order, limit=5).df()"
   ]
  },
  {
   "cell_type": "markdown",
   "metadata": {},
   "source": [
    "#### Grouping and Column Operators"
   ]
  },
  {
   "cell_type": "code",
   "execution_count": 45,
   "metadata": {},
   "outputs": [
    {
     "name": "stdout",
     "output_type": "stream",
     "text": [
      "2024-05-15 14:48:28,497 INFO sqlalchemy.engine.Engine BEGIN (implicit)\n",
      "2024-05-15 14:48:28,498 INFO sqlalchemy.engine.Engine SELECT count(*) AS count, min(\"Record\".age) AS min, max(\"Record\".age) AS max, sum(\"Record\".age) / (count(\"Record\".age) + 0.0) AS mean \n",
      "FROM \"Record\" GROUP BY \"Record\".is_old\n",
      "2024-05-15 14:48:28,498 INFO sqlalchemy.engine.Engine [generated in 0.00148s] ()\n"
     ]
    },
    {
     "data": {
      "text/html": [
       "<div>\n",
       "<style scoped>\n",
       "    .dataframe tbody tr th:only-of-type {\n",
       "        vertical-align: middle;\n",
       "    }\n",
       "\n",
       "    .dataframe tbody tr th {\n",
       "        vertical-align: top;\n",
       "    }\n",
       "\n",
       "    .dataframe thead th {\n",
       "        text-align: right;\n",
       "    }\n",
       "</style>\n",
       "<table border=\"1\" class=\"dataframe\">\n",
       "  <thead>\n",
       "    <tr style=\"text-align: right;\">\n",
       "      <th></th>\n",
       "      <th>count</th>\n",
       "      <th>min</th>\n",
       "      <th>max</th>\n",
       "      <th>mean</th>\n",
       "    </tr>\n",
       "  </thead>\n",
       "  <tbody>\n",
       "    <tr>\n",
       "      <th>0</th>\n",
       "      <td>5</td>\n",
       "      <td>25</td>\n",
       "      <td>47</td>\n",
       "      <td>36.8000000000</td>\n",
       "    </tr>\n",
       "    <tr>\n",
       "      <th>1</th>\n",
       "      <td>5</td>\n",
       "      <td>51</td>\n",
       "      <td>84</td>\n",
       "      <td>69.2000000000</td>\n",
       "    </tr>\n",
       "  </tbody>\n",
       "</table>\n",
       "</div>"
      ],
      "text/plain": [
       "   count  min  max           mean\n",
       "0      5   25   47  36.8000000000\n",
       "1      5   51   84  69.2000000000"
      ]
     },
     "execution_count": 45,
     "metadata": {},
     "output_type": "execute_result"
    }
   ],
   "source": [
    "# summary stats by is_old\n",
    "cols = [\n",
    "    #rtab['is_old'].count().label('count'),\n",
    "    doctable.f.count().label('count'),\n",
    "    rtab['age'].min().label('min'),\n",
    "    rtab['age'].max().label('max'),\n",
    "    (rtab['age'].sum()/rtab['age'].count()).label('mean'),\n",
    "]\n",
    "core.query().select(cols, group_by=rtab['is_old']).df()"
   ]
  },
  {
   "cell_type": "code",
   "execution_count": 46,
   "metadata": {},
   "outputs": [
    {
     "name": "stdout",
     "output_type": "stream",
     "text": [
      "2024-05-15 14:48:28,512 INFO sqlalchemy.engine.Engine BEGIN (implicit)\n",
      "2024-05-15 14:48:28,513 INFO sqlalchemy.engine.Engine SELECT round(\"Record\".age / (? + 0.0)) AS decade, count(\"Record\".age) AS count, min(\"Record\".age) AS min, max(\"Record\".age) AS max, sum(\"Record\".age) / (count(\"Record\".age) + 0.0) AS mean \n",
      "FROM \"Record\" GROUP BY round(\"Record\".age / (? + 0.0))\n",
      "2024-05-15 14:48:28,514 INFO sqlalchemy.engine.Engine [generated in 0.00172s] (10, 10)\n"
     ]
    },
    {
     "data": {
      "text/html": [
       "<div>\n",
       "<style scoped>\n",
       "    .dataframe tbody tr th:only-of-type {\n",
       "        vertical-align: middle;\n",
       "    }\n",
       "\n",
       "    .dataframe tbody tr th {\n",
       "        vertical-align: top;\n",
       "    }\n",
       "\n",
       "    .dataframe thead th {\n",
       "        text-align: right;\n",
       "    }\n",
       "</style>\n",
       "<table border=\"1\" class=\"dataframe\">\n",
       "  <thead>\n",
       "    <tr style=\"text-align: right;\">\n",
       "      <th></th>\n",
       "      <th>decade</th>\n",
       "      <th>count</th>\n",
       "      <th>min</th>\n",
       "      <th>max</th>\n",
       "      <th>mean</th>\n",
       "    </tr>\n",
       "  </thead>\n",
       "  <tbody>\n",
       "    <tr>\n",
       "      <th>0</th>\n",
       "      <td>3.0</td>\n",
       "      <td>2</td>\n",
       "      <td>25</td>\n",
       "      <td>30</td>\n",
       "      <td>27.5000000000</td>\n",
       "    </tr>\n",
       "    <tr>\n",
       "      <th>1</th>\n",
       "      <td>4.0</td>\n",
       "      <td>2</td>\n",
       "      <td>40</td>\n",
       "      <td>42</td>\n",
       "      <td>41.0000000000</td>\n",
       "    </tr>\n",
       "    <tr>\n",
       "      <th>2</th>\n",
       "      <td>5.0</td>\n",
       "      <td>2</td>\n",
       "      <td>47</td>\n",
       "      <td>51</td>\n",
       "      <td>49.0000000000</td>\n",
       "    </tr>\n",
       "    <tr>\n",
       "      <th>3</th>\n",
       "      <td>6.0</td>\n",
       "      <td>1</td>\n",
       "      <td>58</td>\n",
       "      <td>58</td>\n",
       "      <td>58.0000000000</td>\n",
       "    </tr>\n",
       "    <tr>\n",
       "      <th>4</th>\n",
       "      <td>8.0</td>\n",
       "      <td>3</td>\n",
       "      <td>75</td>\n",
       "      <td>84</td>\n",
       "      <td>79.0000000000</td>\n",
       "    </tr>\n",
       "  </tbody>\n",
       "</table>\n",
       "</div>"
      ],
      "text/plain": [
       "   decade  count  min  max           mean\n",
       "0     3.0      2   25   30  27.5000000000\n",
       "1     4.0      2   40   42  41.0000000000\n",
       "2     5.0      2   47   51  49.0000000000\n",
       "3     6.0      1   58   58  58.0000000000\n",
       "4     8.0      3   75   84  79.0000000000"
      ]
     },
     "execution_count": 46,
     "metadata": {},
     "output_type": "execute_result"
    }
   ],
   "source": [
    "# summarize age by decade\n",
    "decade_expression = doctable.f.round(rtab['age'] / 10)\n",
    "cols = [\n",
    "    decade_expression.label('decade'),\n",
    "    rtab['age'].count().label('count'),\n",
    "    rtab['age'].min().label('min'),\n",
    "    rtab['age'].max().label('max'),\n",
    "    (rtab['age'].sum()/rtab['age'].count()).label('mean'),\n",
    "]\n",
    "core.query().select(cols, group_by=decade_expression).df()"
   ]
  },
  {
   "cell_type": "markdown",
   "metadata": {},
   "source": [
    "#### Offset and Selecting Chunks\n",
    "\n",
    "The `offset` parameter is used to pagify results into multiple queries - something that is particularly useful if the result set is too larget to fit into memory."
   ]
  },
  {
   "cell_type": "code",
   "execution_count": 47,
   "metadata": {},
   "outputs": [
    {
     "name": "stdout",
     "output_type": "stream",
     "text": [
      "2024-05-15 14:48:28,529 INFO sqlalchemy.engine.Engine BEGIN (implicit)\n",
      "2024-05-15 14:48:28,530 INFO sqlalchemy.engine.Engine SELECT \"Record\".id, \"Record\".name, \"Record\".age, \"Record\".is_old \n",
      "FROM \"Record\" ORDER BY \"Record\".age DESC\n",
      " LIMIT ? OFFSET ?\n",
      "2024-05-15 14:48:28,530 INFO sqlalchemy.engine.Engine [generated in 0.00120s] (3, 3)\n"
     ]
    },
    {
     "data": {
      "text/html": [
       "<div>\n",
       "<style scoped>\n",
       "    .dataframe tbody tr th:only-of-type {\n",
       "        vertical-align: middle;\n",
       "    }\n",
       "\n",
       "    .dataframe tbody tr th {\n",
       "        vertical-align: top;\n",
       "    }\n",
       "\n",
       "    .dataframe thead th {\n",
       "        text-align: right;\n",
       "    }\n",
       "</style>\n",
       "<table border=\"1\" class=\"dataframe\">\n",
       "  <thead>\n",
       "    <tr style=\"text-align: right;\">\n",
       "      <th></th>\n",
       "      <th>id</th>\n",
       "      <th>name</th>\n",
       "      <th>age</th>\n",
       "      <th>is_old</th>\n",
       "    </tr>\n",
       "  </thead>\n",
       "  <tbody>\n",
       "    <tr>\n",
       "      <th>0</th>\n",
       "      <td>10</td>\n",
       "      <td>user_9</td>\n",
       "      <td>58</td>\n",
       "      <td>1</td>\n",
       "    </tr>\n",
       "    <tr>\n",
       "      <th>1</th>\n",
       "      <td>5</td>\n",
       "      <td>user_4</td>\n",
       "      <td>51</td>\n",
       "      <td>1</td>\n",
       "    </tr>\n",
       "    <tr>\n",
       "      <th>2</th>\n",
       "      <td>9</td>\n",
       "      <td>user_8</td>\n",
       "      <td>47</td>\n",
       "      <td>0</td>\n",
       "    </tr>\n",
       "  </tbody>\n",
       "</table>\n",
       "</div>"
      ],
      "text/plain": [
       "   id    name  age  is_old\n",
       "0  10  user_9   58       1\n",
       "1   5  user_4   51       1\n",
       "2   9  user_8   47       0"
      ]
     },
     "execution_count": 47,
     "metadata": {},
     "output_type": "execute_result"
    }
   ],
   "source": [
    "# get the three oldest individuals, offset by three\n",
    "core.query().select(rtab.all_cols(), order_by=rtab['age'].desc(), limit=3, offset=3).df()"
   ]
  },
  {
   "cell_type": "code",
   "execution_count": 48,
   "metadata": {},
   "outputs": [
    {
     "name": "stdout",
     "output_type": "stream",
     "text": [
      "2024-05-15 14:48:28,542 INFO sqlalchemy.engine.Engine BEGIN (implicit)\n",
      "2024-05-15 14:48:28,543 INFO sqlalchemy.engine.Engine SELECT \"Record\".id, \"Record\".name, \"Record\".age, \"Record\".is_old \n",
      "FROM \"Record\"\n",
      " LIMIT ? OFFSET ?\n",
      "2024-05-15 14:48:28,544 INFO sqlalchemy.engine.Engine [generated in 0.00134s] (3, 0)\n",
      "[(1, 'user_0', 84, 1), (2, 'user_1', 75, 1), (3, 'user_2', 42, 0)]\n",
      "2024-05-15 14:48:28,545 INFO sqlalchemy.engine.Engine SELECT \"Record\".id, \"Record\".name, \"Record\".age, \"Record\".is_old \n",
      "FROM \"Record\"\n",
      " LIMIT ? OFFSET ?\n",
      "2024-05-15 14:48:28,545 INFO sqlalchemy.engine.Engine [cached since 0.002909s ago] (3, 3)\n",
      "[(4, 'user_3', 25, 0), (5, 'user_4', 51, 1), (6, 'user_5', 40, 0)]\n",
      "2024-05-15 14:48:28,546 INFO sqlalchemy.engine.Engine SELECT \"Record\".id, \"Record\".name, \"Record\".age, \"Record\".is_old \n",
      "FROM \"Record\"\n",
      " LIMIT ? OFFSET ?\n",
      "2024-05-15 14:48:28,547 INFO sqlalchemy.engine.Engine [cached since 0.004557s ago] (3, 6)\n",
      "[(7, 'user_6', 78, 1), (8, 'user_7', 30, 0), (9, 'user_8', 47, 0)]\n",
      "2024-05-15 14:48:28,548 INFO sqlalchemy.engine.Engine SELECT \"Record\".id, \"Record\".name, \"Record\".age, \"Record\".is_old \n",
      "FROM \"Record\"\n",
      " LIMIT ? OFFSET ?\n",
      "2024-05-15 14:48:28,548 INFO sqlalchemy.engine.Engine [cached since 0.005922s ago] (3, 9)\n",
      "[(10, 'user_9', 58, 1)]\n"
     ]
    }
   ],
   "source": [
    "for chunk in core.query().select_chunks(rtab[:], chunksize=3):\n",
    "    print(chunk)"
   ]
  },
  {
   "cell_type": "markdown",
   "metadata": {},
   "source": [
    "## `TableQuery` Basics\n",
    "\n",
    "The `TableQuery` interface is used to make table-specific queries, and, in exchange for this restriction, allows you to insert and select container objects directly. Queries on tables look much like their table-agnostic counterparts, with a few exceptions. Every query still begins with the `.query()` method, which returns a `TableQuery` object with methods for inserting and selecting container objects.\n",
    "\n",
    "1. List of selected columns is optional - if you do not specify, the query will default to all columns in the table. Otherwise, you should provide a subset of the columns, where all attributes that were not received will refer to `doctable.MISSING`, which you may check for downstream.\n",
    "\n",
    "2. Results of a select query are returned as a list of container objects. This means that we have called the `.all()` method on the `sqlalchemy.CursorResult` object.\n",
    "\n",
    "3. All returned results must match the attributes of the container object. Most often you will want to select raw database rows, but transformations via `group_by` and other operators are also possible as long as the result set attributes match the container attributes - that is, they can be expanded to the container constructor.\n",
    "\n",
    "4. Behavior of `where`, `order_by`, `limit`, are `offset` all operate as-expected.\n",
    "\n",
    "Below you can see a few examples demonstrating this behavior."
   ]
  },
  {
   "cell_type": "code",
   "execution_count": 49,
   "metadata": {},
   "outputs": [
    {
     "name": "stdout",
     "output_type": "stream",
     "text": [
      "2024-05-15 14:48:28,598 INFO sqlalchemy.engine.Engine BEGIN (implicit)\n",
      "2024-05-15 14:48:28,599 INFO sqlalchemy.engine.Engine SELECT \"Record\".id, \"Record\".name, \"Record\".age, \"Record\".is_old \n",
      "FROM \"Record\" \n",
      "WHERE \"Record\".age > ?\n",
      "2024-05-15 14:48:28,600 INFO sqlalchemy.engine.Engine [generated in 0.00176s] (50,)\n"
     ]
    },
    {
     "data": {
      "text/plain": [
       "[Record(name='user_0', age=84, is_old=1, id=1),\n",
       " Record(name='user_1', age=75, is_old=1, id=2),\n",
       " Record(name='user_4', age=51, is_old=1, id=5),\n",
       " Record(name='user_6', age=78, is_old=1, id=7),\n",
       " Record(name='user_9', age=58, is_old=1, id=10)]"
      ]
     },
     "execution_count": 49,
     "metadata": {},
     "output_type": "execute_result"
    }
   ],
   "source": [
    "rtab.query().select(where=rtab['age']>50)"
   ]
  },
  {
   "cell_type": "code",
   "execution_count": 50,
   "metadata": {},
   "outputs": [
    {
     "name": "stdout",
     "output_type": "stream",
     "text": [
      "2024-05-15 14:48:28,609 INFO sqlalchemy.engine.Engine BEGIN (implicit)\n",
      "2024-05-15 14:48:28,610 INFO sqlalchemy.engine.Engine SELECT \"Record\".id, \"Record\".age \n",
      "FROM \"Record\" \n",
      "WHERE \"Record\".is_old\n",
      "2024-05-15 14:48:28,611 INFO sqlalchemy.engine.Engine [generated in 0.00144s] ()\n"
     ]
    },
    {
     "data": {
      "text/plain": [
       "('result[0].name is doctable.MISSING=True',\n",
       " [Record(name=MISSING, age=84, is_old=MISSING, id=1),\n",
       "  Record(name=MISSING, age=75, is_old=MISSING, id=2),\n",
       "  Record(name=MISSING, age=51, is_old=MISSING, id=5),\n",
       "  Record(name=MISSING, age=78, is_old=MISSING, id=7),\n",
       "  Record(name=MISSING, age=58, is_old=MISSING, id=10)])"
      ]
     },
     "execution_count": 50,
     "metadata": {},
     "output_type": "execute_result"
    }
   ],
   "source": [
    "result = rtab.query().select(rtab.cols('id', 'age'), where=rtab['is_old'])\n",
    "f'{result[0].name is doctable.MISSING=}', result"
   ]
  },
  {
   "cell_type": "code",
   "execution_count": 51,
   "metadata": {},
   "outputs": [
    {
     "name": "stdout",
     "output_type": "stream",
     "text": [
      "2024-05-15 14:48:28,624 INFO sqlalchemy.engine.Engine BEGIN (implicit)\n",
      "2024-05-15 14:48:28,624 INFO sqlalchemy.engine.Engine SELECT sum(\"Record\".age) / (count(\"Record\".age) + 0.0) AS age \n",
      "FROM \"Record\"\n",
      "2024-05-15 14:48:28,625 INFO sqlalchemy.engine.Engine [generated in 0.00125s] ()\n"
     ]
    },
    {
     "data": {
      "text/plain": [
       "[Record(name=MISSING, age=Decimal('53.0000000000'), is_old=MISSING, id=MISSING)]"
      ]
     },
     "execution_count": 51,
     "metadata": {},
     "output_type": "execute_result"
    }
   ],
   "source": [
    "# this is valid, although perhaps not recommended\n",
    "cols = [\n",
    "    (rtab['age'].sum()/rtab['age'].count()).label('age'),\n",
    "]\n",
    "rtab.query().select(cols=cols)"
   ]
  },
  {
   "cell_type": "markdown",
   "metadata": {},
   "source": [
    "`.select_chunks()` also more or less works as-expected, with the chunks being converted to container objects."
   ]
  },
  {
   "cell_type": "code",
   "execution_count": 52,
   "metadata": {},
   "outputs": [
    {
     "name": "stdout",
     "output_type": "stream",
     "text": [
      "2024-05-15 14:48:28,636 INFO sqlalchemy.engine.Engine BEGIN (implicit)\n",
      "2024-05-15 14:48:28,637 INFO sqlalchemy.engine.Engine SELECT \"Record\".id, \"Record\".name, \"Record\".age, \"Record\".is_old \n",
      "FROM \"Record\"\n",
      " LIMIT ? OFFSET ?\n",
      "2024-05-15 14:48:28,637 INFO sqlalchemy.engine.Engine [cached since 0.09464s ago] (3, 0)\n",
      "[Record(name='user_0', age=84, is_old=1, id=1), Record(name='user_1', age=75, is_old=1, id=2), Record(name='user_2', age=42, is_old=0, id=3)]\n",
      "2024-05-15 14:48:28,638 INFO sqlalchemy.engine.Engine SELECT \"Record\".id, \"Record\".name, \"Record\".age, \"Record\".is_old \n",
      "FROM \"Record\"\n",
      " LIMIT ? OFFSET ?\n",
      "2024-05-15 14:48:28,639 INFO sqlalchemy.engine.Engine [cached since 0.09626s ago] (3, 3)\n",
      "[Record(name='user_3', age=25, is_old=0, id=4), Record(name='user_4', age=51, is_old=1, id=5), Record(name='user_5', age=40, is_old=0, id=6)]\n",
      "2024-05-15 14:48:28,640 INFO sqlalchemy.engine.Engine SELECT \"Record\".id, \"Record\".name, \"Record\".age, \"Record\".is_old \n",
      "FROM \"Record\"\n",
      " LIMIT ? OFFSET ?\n",
      "2024-05-15 14:48:28,640 INFO sqlalchemy.engine.Engine [cached since 0.09759s ago] (3, 6)\n",
      "[Record(name='user_6', age=78, is_old=1, id=7), Record(name='user_7', age=30, is_old=0, id=8), Record(name='user_8', age=47, is_old=0, id=9)]\n",
      "2024-05-15 14:48:28,641 INFO sqlalchemy.engine.Engine SELECT \"Record\".id, \"Record\".name, \"Record\".age, \"Record\".is_old \n",
      "FROM \"Record\"\n",
      " LIMIT ? OFFSET ?\n",
      "2024-05-15 14:48:28,641 INFO sqlalchemy.engine.Engine [cached since 0.09883s ago] (3, 9)\n",
      "[Record(name='user_9', age=58, is_old=1, id=10)]\n"
     ]
    }
   ],
   "source": [
    "for chunk in rtab.query().select_chunks(chunksize=3):\n",
    "    print(chunk)"
   ]
  }
 ],
 "metadata": {
  "kernelspec": {
   "display_name": "Python 3 (ipykernel)",
   "language": "python",
   "name": "python3"
  },
  "language_info": {
   "codemirror_mode": {
    "name": "ipython",
    "version": 3
   },
   "file_extension": ".py",
   "mimetype": "text/x-python",
   "name": "python",
   "nbconvert_exporter": "python",
   "pygments_lexer": "ipython3",
   "version": "3.11.5"
  }
 },
 "nbformat": 4,
 "nbformat_minor": 2
}
