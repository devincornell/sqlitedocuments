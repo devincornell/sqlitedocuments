{
 "cells": [
  {
   "cell_type": "markdown",
   "metadata": {},
   "source": [
    "# Recipes\n",
    "Here I've included a few recipies for building software using `doctable`."
   ]
  },
  {
   "cell_type": "code",
   "execution_count": 1,
   "metadata": {},
   "outputs": [],
   "source": [
    "import dataclasses\n",
    "import typing\n",
    "\n",
    "import sys\n",
    "sys.path.append('../')\n",
    "import doctable"
   ]
  },
  {
   "cell_type": "code",
   "execution_count": 2,
   "metadata": {},
   "outputs": [
    {
     "data": {
      "text/plain": [
       "ConnectCore(target=':memory:', dialect='sqlite', engine=Engine(sqlite:///:memory:), metadata=MetaData())"
      ]
     },
     "execution_count": 2,
     "metadata": {},
     "output_type": "execute_result"
    }
   ],
   "source": [
    "core = doctable.ConnectCore.open(\n",
    "    target=':memory:', \n",
    "    dialect='sqlite'\n",
    ")\n",
    "core"
   ]
  },
  {
   "cell_type": "code",
   "execution_count": 3,
   "metadata": {},
   "outputs": [
    {
     "ename": "NameError",
     "evalue": "name 'Author' is not defined",
     "output_type": "error",
     "traceback": [
      "\u001b[0;31m---------------------------------------------------------------------------\u001b[0m",
      "\u001b[0;31mNameError\u001b[0m                                 Traceback (most recent call last)",
      "Cell \u001b[0;32mIn[3], line 2\u001b[0m\n\u001b[1;32m      1\u001b[0m \u001b[38;5;129m@doctable\u001b[39m\u001b[38;5;241m.\u001b[39mtable_schema\n\u001b[0;32m----> 2\u001b[0m \u001b[38;5;28;01mclass\u001b[39;00m \u001b[38;5;21;01mBook\u001b[39;00m:\n\u001b[1;32m      3\u001b[0m     title: \u001b[38;5;28mstr\u001b[39m\n\u001b[1;32m      4\u001b[0m     publish_year: \u001b[38;5;28mint\u001b[39m\n",
      "Cell \u001b[0;32mIn[3], line 5\u001b[0m, in \u001b[0;36mBook\u001b[0;34m()\u001b[0m\n\u001b[1;32m      3\u001b[0m title: \u001b[38;5;28mstr\u001b[39m\n\u001b[1;32m      4\u001b[0m publish_year: \u001b[38;5;28mint\u001b[39m\n\u001b[0;32m----> 5\u001b[0m author: Author\n\u001b[1;32m      7\u001b[0m \u001b[38;5;28mid\u001b[39m: \u001b[38;5;28mint\u001b[39m \u001b[38;5;241m=\u001b[39m doctable\u001b[38;5;241m.\u001b[39mColumn(\n\u001b[1;32m      8\u001b[0m     column_args\u001b[38;5;241m=\u001b[39mdoctable\u001b[38;5;241m.\u001b[39mColumnArgs(\n\u001b[1;32m      9\u001b[0m         column_name\u001b[38;5;241m=\u001b[39m\u001b[38;5;124m'\u001b[39m\u001b[38;5;124mid\u001b[39m\u001b[38;5;124m'\u001b[39m, \u001b[38;5;66;03m# name of the column in the db (might not want to have an attr called 'id')\u001b[39;00m\n\u001b[0;32m   (...)\u001b[0m\n\u001b[1;32m     13\u001b[0m     ),\n\u001b[1;32m     14\u001b[0m )\n",
      "\u001b[0;31mNameError\u001b[0m: name 'Author' is not defined"
     ]
    }
   ],
   "source": [
    "@doctable.table_schema(table_name='book')\n",
    "class Book:\n",
    "    title: str\n",
    "    publish_year: int\n",
    "    author: doctable.ForeignKey()\n",
    "\n",
    "    id: int = doctable.Column(\n",
    "        column_args=doctable.ColumnArgs(\n",
    "            column_name='id', # name of the column in the db (might not want to have an attr called 'id')\n",
    "            order = 0, # affects the ordering of the columns in the db\n",
    "            primary_key=True,\n",
    "            autoincrement=True,\n",
    "        ),\n",
    "    )\n",
    "doctable.inspect_schema(Book).column_info_df()"
   ]
  },
  {
   "cell_type": "code",
   "execution_count": null,
   "metadata": {},
   "outputs": [],
   "source": [
    "@dataclasses.dataclass\n",
    "class LibraryStore:\n",
    "    core: doctable.ConnectCore\n",
    "    book_tab: doctable.DBTable\n",
    "    auth_tab: doctable.DBTable\n",
    "\n",
    "    @classmethod\n",
    "    def open(cls, target: str) -> typing.Self:\n",
    "        core = doctable.ConnectCore.open(\n",
    "            target=':memory:', \n",
    "            dialect='sqlite'\n",
    "        )\n",
    "        with core.emit_ddl\n",
    "        return cls(\n",
    "\n",
    "        )"
   ]
  }
 ],
 "metadata": {
  "kernelspec": {
   "display_name": "base",
   "language": "python",
   "name": "python3"
  },
  "language_info": {
   "codemirror_mode": {
    "name": "ipython",
    "version": 3
   },
   "file_extension": ".py",
   "mimetype": "text/x-python",
   "name": "python",
   "nbconvert_exporter": "python",
   "pygments_lexer": "ipython3",
   "version": "3.11.5"
  }
 },
 "nbformat": 4,
 "nbformat_minor": 2
}
